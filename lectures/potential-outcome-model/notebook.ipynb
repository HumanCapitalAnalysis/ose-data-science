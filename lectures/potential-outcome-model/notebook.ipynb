{
 "cells": [
  {
   "cell_type": "code",
   "execution_count": 1,
   "metadata": {
    "nbsphinx": "hidden",
    "slideshow": {
     "slide_type": "skip"
    }
   },
   "outputs": [],
   "source": [
    "import matplotlib.pyplot as plt\n",
    "from matplotlib.ticker import FixedLocator, FixedFormatter\n",
    "import scipy.stats as ss\n",
    "import pandas as pd\n",
    "import numpy as np\n",
    "\n",
    "from auxiliary import plot_individual_specific_effects\n",
    "from auxiliary import get_lalonde_data"
   ]
  },
  {
   "cell_type": "markdown",
   "metadata": {},
   "source": [
    "# Potential outcome model"
   ]
  },
  {
   "cell_type": "markdown",
   "metadata": {},
   "source": [
    "### Introduction"
   ]
  },
  {
   "cell_type": "markdown",
   "metadata": {
    "slideshow": {
     "slide_type": "slide"
    }
   },
   "source": [
    "Given what we know from the introduction about the potential outcome model, we will initially prepare the Lalonde Dataset to fit the framework and use it as a running example going forward.\n",
    "\n",
    "What are this example's ...\n",
    "\n",
    "* potential outcomes\n",
    "* counterfactual state\n",
    "* treatment\n"
   ]
  },
  {
   "cell_type": "code",
   "execution_count": 2,
   "metadata": {
    "slideshow": {
     "slide_type": "slide"
    }
   },
   "outputs": [
    {
     "data": {
      "text/html": [
       "<div>\n",
       "<style scoped>\n",
       "    .dataframe tbody tr th:only-of-type {\n",
       "        vertical-align: middle;\n",
       "    }\n",
       "\n",
       "    .dataframe tbody tr th {\n",
       "        vertical-align: top;\n",
       "    }\n",
       "\n",
       "    .dataframe thead th {\n",
       "        text-align: right;\n",
       "    }\n",
       "</style>\n",
       "<table border=\"1\" class=\"dataframe\">\n",
       "  <thead>\n",
       "    <tr style=\"text-align: right;\">\n",
       "      <th></th>\n",
       "      <th>treat</th>\n",
       "      <th>re78</th>\n",
       "      <th>Y</th>\n",
       "      <th>Y_0</th>\n",
       "      <th>Y_1</th>\n",
       "      <th>D</th>\n",
       "    </tr>\n",
       "  </thead>\n",
       "  <tbody>\n",
       "    <tr>\n",
       "      <th>101</th>\n",
       "      <td>1</td>\n",
       "      <td>9970.681</td>\n",
       "      <td>9970.681</td>\n",
       "      <td>NaN</td>\n",
       "      <td>9970.681</td>\n",
       "      <td>1</td>\n",
       "    </tr>\n",
       "    <tr>\n",
       "      <th>611</th>\n",
       "      <td>0</td>\n",
       "      <td>7094.920</td>\n",
       "      <td>7094.920</td>\n",
       "      <td>7094.920</td>\n",
       "      <td>NaN</td>\n",
       "      <td>0</td>\n",
       "    </tr>\n",
       "    <tr>\n",
       "      <th>396</th>\n",
       "      <td>0</td>\n",
       "      <td>11223.720</td>\n",
       "      <td>11223.720</td>\n",
       "      <td>11223.720</td>\n",
       "      <td>NaN</td>\n",
       "      <td>0</td>\n",
       "    </tr>\n",
       "    <tr>\n",
       "      <th>681</th>\n",
       "      <td>0</td>\n",
       "      <td>4687.937</td>\n",
       "      <td>4687.937</td>\n",
       "      <td>4687.937</td>\n",
       "      <td>NaN</td>\n",
       "      <td>0</td>\n",
       "    </tr>\n",
       "    <tr>\n",
       "      <th>397</th>\n",
       "      <td>0</td>\n",
       "      <td>5088.760</td>\n",
       "      <td>5088.760</td>\n",
       "      <td>5088.760</td>\n",
       "      <td>NaN</td>\n",
       "      <td>0</td>\n",
       "    </tr>\n",
       "  </tbody>\n",
       "</table>\n",
       "</div>"
      ],
      "text/plain": [
       "     treat       re78          Y        Y_0       Y_1  D\n",
       "101      1   9970.681   9970.681        NaN  9970.681  1\n",
       "611      0   7094.920   7094.920   7094.920       NaN  0\n",
       "396      0  11223.720  11223.720  11223.720       NaN  0\n",
       "681      0   4687.937   4687.937   4687.937       NaN  0\n",
       "397      0   5088.760   5088.760   5088.760       NaN  0"
      ]
     },
     "execution_count": 2,
     "metadata": {},
     "output_type": "execute_result"
    }
   ],
   "source": [
    "df = get_lalonde_data()\n",
    "df.head()"
   ]
  },
  {
   "cell_type": "markdown",
   "metadata": {},
   "source": [
    "We are dealing with a binary treatment here: $D = 1$ if the individual did participate in the training program and $D = 0$ if  it did not. However, in practice assigning **treatment** is never that easy. We lump a lot of heterogeneity together (e.g. different sites, content of curriculum) that might affect the success of program participation. Maybe we should stratify the analysis by site?"
   ]
  },
  {
   "cell_type": "markdown",
   "metadata": {
    "slideshow": {
     "slide_type": "slide"
    }
   },
   "source": [
    "### Individual-specific effect of treatment"
   ]
  },
  {
   "cell_type": "markdown",
   "metadata": {
    "slideshow": {
     "slide_type": "slide"
    }
   },
   "source": [
    "It would be great if we could get our hands on the individual-specific effect of treatment.\n",
    "\n",
    "\\begin{align*}\n",
    "\\delta_i = y_i^1 - y_i^0\n",
    "\\end{align*}\n",
    "\n",
    "* Why do individuals have potentially different effects of treatment? "
   ]
  },
  {
   "cell_type": "code",
   "execution_count": 3,
   "metadata": {
    "slideshow": {
     "slide_type": "slide"
    }
   },
   "outputs": [
    {
     "data": {
      "text/plain": [
       "(0.0, 0.5)"
      ]
     },
     "execution_count": 3,
     "metadata": {},
     "output_type": "execute_result"
    },
    {
     "data": {
      "image/png": "[encoded data removed]",
      "text/plain": [
       "<Figure size 432x288 with 1 Axes>"
      ]
     },
     "metadata": {
      "needs_background": "light"
     },
     "output_type": "display_data"
    }
   ],
   "source": [
    "fig, ax = plt.subplots()\n",
    "\n",
    "x = np.linspace(-5, 5, 5000)\n",
    "pdf = ss.norm.pdf(x, 0, 1)\n",
    "\n",
    "ax.plot(x, pdf)\n",
    "\n",
    "ax.set_xlabel(r\"$\\delta = Y^1 - Y^0$\")\n",
    "ax.set_ylabel(\"Density\")\n",
    "x_formatter = FixedFormatter([\"\", \"\", \"\", 0.5, \"\", \"\", \"\"])\n",
    "x_locator = FixedLocator([-3, -2, -1 ,0 ,1 ,2, 3])\n",
    "ax.xaxis.set_major_locator(x_locator)\n",
    "ax.xaxis.set_major_formatter(x_formatter)\n",
    "ax.set_xlim([-3, 3])\n",
    "ax.set_ylim([0, 0.5])"
   ]
  },
  {
   "cell_type": "markdown",
   "metadata": {
    "slideshow": {
     "slide_type": "slide"
    }
   },
   "source": [
    "There might be considerable heterogeneity in the benefits of treatment among the population. And summarizing the distribution of benefits with a single number, for example $E[\\delta]$, might result in a loss of information.\n",
    "\n",
    "**Examples**\n",
    "\n",
    "* medical treatment\n",
    "* .."
   ]
  },
  {
   "cell_type": "markdown",
   "metadata": {
    "slideshow": {
     "slide_type": "slide"
    }
   },
   "source": [
    "Give our definitions of $(Y^1, Y^0, D)$ and their individual realizations $(y^1_i, y^0_i, d_i)$ we can now define the observed outcome $Y$ in terms of them.\n",
    "\n",
    "\\begin{align*}\n",
    "Y = \\begin{cases}\n",
    "Y^1 & \\quad\\text{if}\\quad D = 1 \\\\\n",
    "Y^0 & \\quad\\text{if}\\quad D = 0\n",
    "\\end{cases}\n",
    "\\end{align*}\n",
    "\n",
    "or more compactly in switching-regime notation\n",
    "\n",
    "\\begin{align*}\n",
    "Y = D Y^1 + (1 - D) Y^0.\n",
    "\\end{align*}"
   ]
  },
  {
   "cell_type": "markdown",
   "metadata": {
    "slideshow": {
     "slide_type": "slide"
    }
   },
   "source": [
    "This leads Holland (1986) to describe the fundamental problem of causal inference:\n",
    "\n",
    "<img src=\"material/fig-fundamental-problem.png\" width=\"500\">\n",
    "\n",
    "$\\rightarrow$ as only the diagonal of the table is observable we cannot simply compute $\\delta_i$ by taking the difference in potential outcomes $(y^1_i, y^0_i)$."
   ]
  },
  {
   "cell_type": "code",
   "execution_count": 4,
   "metadata": {
    "slideshow": {
     "slide_type": "slide"
    }
   },
   "outputs": [
    {
     "data": {
      "text/html": [
       "<div>\n",
       "<style scoped>\n",
       "    .dataframe tbody tr th:only-of-type {\n",
       "        vertical-align: middle;\n",
       "    }\n",
       "\n",
       "    .dataframe tbody tr th {\n",
       "        vertical-align: top;\n",
       "    }\n",
       "\n",
       "    .dataframe thead th {\n",
       "        text-align: right;\n",
       "    }\n",
       "</style>\n",
       "<table border=\"1\" class=\"dataframe\">\n",
       "  <thead>\n",
       "    <tr style=\"text-align: right;\">\n",
       "      <th></th>\n",
       "      <th>treat</th>\n",
       "      <th>re78</th>\n",
       "      <th>Y</th>\n",
       "      <th>Y_0</th>\n",
       "      <th>Y_1</th>\n",
       "      <th>D</th>\n",
       "    </tr>\n",
       "  </thead>\n",
       "  <tbody>\n",
       "    <tr>\n",
       "      <th>101</th>\n",
       "      <td>1</td>\n",
       "      <td>9970.681</td>\n",
       "      <td>9970.681</td>\n",
       "      <td>NaN</td>\n",
       "      <td>9970.681</td>\n",
       "      <td>1</td>\n",
       "    </tr>\n",
       "    <tr>\n",
       "      <th>611</th>\n",
       "      <td>0</td>\n",
       "      <td>7094.920</td>\n",
       "      <td>7094.920</td>\n",
       "      <td>7094.920</td>\n",
       "      <td>NaN</td>\n",
       "      <td>0</td>\n",
       "    </tr>\n",
       "    <tr>\n",
       "      <th>396</th>\n",
       "      <td>0</td>\n",
       "      <td>11223.720</td>\n",
       "      <td>11223.720</td>\n",
       "      <td>11223.720</td>\n",
       "      <td>NaN</td>\n",
       "      <td>0</td>\n",
       "    </tr>\n",
       "    <tr>\n",
       "      <th>681</th>\n",
       "      <td>0</td>\n",
       "      <td>4687.937</td>\n",
       "      <td>4687.937</td>\n",
       "      <td>4687.937</td>\n",
       "      <td>NaN</td>\n",
       "      <td>0</td>\n",
       "    </tr>\n",
       "    <tr>\n",
       "      <th>397</th>\n",
       "      <td>0</td>\n",
       "      <td>5088.760</td>\n",
       "      <td>5088.760</td>\n",
       "      <td>5088.760</td>\n",
       "      <td>NaN</td>\n",
       "      <td>0</td>\n",
       "    </tr>\n",
       "  </tbody>\n",
       "</table>\n",
       "</div>"
      ],
      "text/plain": [
       "     treat       re78          Y        Y_0       Y_1  D\n",
       "101      1   9970.681   9970.681        NaN  9970.681  1\n",
       "611      0   7094.920   7094.920   7094.920       NaN  0\n",
       "396      0  11223.720  11223.720  11223.720       NaN  0\n",
       "681      0   4687.937   4687.937   4687.937       NaN  0\n",
       "397      0   5088.760   5088.760   5088.760       NaN  0"
      ]
     },
     "execution_count": 4,
     "metadata": {},
     "output_type": "execute_result"
    }
   ],
   "source": [
    "df.head()"
   ]
  },
  {
   "cell_type": "markdown",
   "metadata": {
    "slideshow": {
     "slide_type": "slide"
    }
   },
   "source": [
    "### Population-level parameters"
   ]
  },
  {
   "cell_type": "markdown",
   "metadata": {
    "slideshow": {
     "slide_type": "slide"
    }
   },
   "source": [
    "It looks like we need to give up any hope of obtaining the individual-specific effect of treatment. But what can we still hope for?\n",
    "\n",
    "$\\rightarrow$ population-level parameters\n",
    "\n",
    "* What are common examples?\n",
    "\n",
    "* What are the policy questions they address?\n",
    "\n",
    "* What is their relationship to each other?"
   ]
  },
  {
   "cell_type": "markdown",
   "metadata": {
    "slideshow": {
     "slide_type": "slide"
    }
   },
   "source": [
    "\\begin{align*}\n",
    "\\begin{array}{lll}\n",
    "E[Y^1 - Y^0] & \\qquad ATE & \\qquad\\text{average effect of treatment} \\\\\n",
    "E[Y^1 - Y^0 \\mid D = 1] & \\qquad ATT & \\qquad\\text{average effect on treated} \\\\\n",
    "E[Y^1 - Y^0 \\mid D = 0] & \\qquad ATC & \\qquad\\text{average effect on control}\n",
    "\\end{array}\n",
    "\\end{align*}"
   ]
  },
  {
   "cell_type": "code",
   "execution_count": 5,
   "metadata": {
    "slideshow": {
     "slide_type": "slide"
    }
   },
   "outputs": [
    {
     "data": {
      "image/png": "[encoded data removed]",
      "text/plain": [
       "<Figure size 432x288 with 1 Axes>"
      ]
     },
     "metadata": {
      "needs_background": "light"
     },
     "output_type": "display_data"
    }
   ],
   "source": [
    "plot_individual_specific_effects(with_parameters=[0, 0.7, -0.5])"
   ]
  },
  {
   "cell_type": "code",
   "execution_count": 6,
   "metadata": {
    "slideshow": {
     "slide_type": "slide"
    }
   },
   "outputs": [
    {
     "data": {
      "image/png": "[encoded data removed]",
      "text/plain": [
       "<Figure size 432x288 with 1 Axes>"
      ]
     },
     "metadata": {
      "needs_background": "light"
     },
     "output_type": "display_data"
    }
   ],
   "source": [
    "plot_individual_specific_effects(with_parameters=[0, -0.7, 0.5])"
   ]
  },
  {
   "cell_type": "code",
   "execution_count": 6,
   "metadata": {
    "slideshow": {
     "slide_type": "slide"
    }
   },
   "outputs": [
    {
     "data": {
      "image/png": "[encoded data removed]",
      "text/plain": [
       "<Figure size 432x288 with 1 Axes>"
      ]
     },
     "metadata": {
      "needs_background": "light"
     },
     "output_type": "display_data"
    }
   ],
   "source": [
    "plot_individual_specific_effects(with_parameters=[0, 0, 0])"
   ]
  },
  {
   "cell_type": "markdown",
   "metadata": {
    "slideshow": {
     "slide_type": "slide"
    }
   },
   "source": [
    "### Stable unit treatment value assumption"
   ]
  },
  {
   "cell_type": "markdown",
   "metadata": {
    "slideshow": {
     "slide_type": "slide"
    },
    "toc-hr-collapsed": true,
    "toc-nb-collapsed": true
   },
   "source": [
    "The potential outcome model gets its empirical tractability when combined with the **Stable Unit Treatment Value Assumption (SUTVA)** of which there exist many formulations. We will go with the one from Imbens and Rubin (2015):\n",
    "\n",
    "> The potential outcomes for any unit do not vary with the treatments assigned to other units, and, for each unit there are no different forms or versions of each treatment level, which lead to different potential outcomes."
   ]
  },
  {
   "cell_type": "markdown",
   "metadata": {
    "slideshow": {
     "slide_type": "slide"
    }
   },
   "source": [
    "The table below shows all possible assignment patterns for a hypothetical treatment where the only constraint is that at least one individual remains in the treatment and control group. As we increase participation from one to two individuals, the potential outcome $Y_1$ declines.\n",
    "\n",
    "<img src=\"material/fig-stable-unit-treatment.png\" width=\"500\">"
   ]
  },
  {
   "cell_type": "markdown",
   "metadata": {},
   "source": [
    "* When do we need to expect this is violated?\n",
    "\n",
    "    * **influence patterns** that result from contact across individuals in social or physical space\n",
    "    * **dilution / concentration patterns** that one can assume would result from changes in the prevalence of treatment"
   ]
  },
  {
   "cell_type": "markdown",
   "metadata": {
    "slideshow": {
     "slide_type": "slide"
    }
   },
   "source": [
    "### Treatment assignment and observational studies"
   ]
  },
  {
   "cell_type": "markdown",
   "metadata": {
    "slideshow": {
     "slide_type": "slide"
    }
   },
   "source": [
    "* randomized experiment\n",
    "\n",
    "\\begin{align*}\n",
    "(Y^0, Y^1)  \\perp \\!\\!\\! \\perp D\n",
    "\\end{align*}\n",
    "\n",
    "* observational study\n",
    "\n",
    "> A *observational study* is an empirical investigation of treatments, policies, or exposures and the effects they cause, but it differs from an experiment in that the investigator cannot control the assignment of treatments to subjects. (Rosenbaum (2002))"
   ]
  },
  {
   "cell_type": "markdown",
   "metadata": {},
   "source": [
    "### Naive estimation of average causal effects"
   ]
  },
  {
   "cell_type": "markdown",
   "metadata": {
    "toc-hr-collapsed": true,
    "toc-nb-collapsed": true
   },
   "source": [
    "We will now first outline the problem with the naive estimation of average causal effects. Then we take a closer look at the different sources of biases involved and finally discuss the set of assumptions used to ***solve*** these issues.\n",
    "\n",
    "\\begin{align*}\n",
    "\\hat{\\delta}_{NAIVE} \\equiv E_N[y_i\\mid d_i = 1] - E_N[y_i\\mid d_i = 0]\n",
    "\\end{align*}\n",
    "\n",
    "We can further decompose the average treatment effect by treatment status as the individual assignment is mutually exclusive. \n",
    "\n",
    "\n",
    "\\begin{align*}\n",
    "E[Y^1 - Y^0] & = E[\\delta] & = \\{\\pi E[Y^1\\mid D = 1] + (1 - \\pi)E[Y^1\\mid D = 0]\\} \\\\\n",
    "&&- \\{\\pi E[Y^0\\mid D = 1] + (1 - \\pi)E[Y^0\\mid D = 0]\\}\n",
    "\\end{align*}\n",
    "\n",
    "The average treatment effect is a function of five unknowns. Which components can be easily computed from data?\n",
    "\n",
    "\\begin{align*}\n",
    "E_N[y_i\\mid d_i = 1] \\xrightarrow{p} E[Y^1\\mid D = 1] \\neq E[Y^1]\\\\\n",
    "E_N[y_i\\mid d_i = 0] \\xrightarrow{p} E[Y^0\\mid D = 0] \\neq E[Y^0]\n",
    "\\end{align*}"
   ]
  },
  {
   "cell_type": "markdown",
   "metadata": {},
   "source": [
    "#### Biases\n",
    "\n",
    "\\begin{align*}\n",
    "E[Y^1 \\mid D = 1] - E[Y^0 \\mid D = 0] & = E[\\delta] + \\underbrace{\\{E[Y^0\\mid D= 1] - E[Y^0\\mid D= 0]\\}}_{\\text{Baseline bias}} \\\\\n",
    "& + (1 - \\pi)  \\underbrace{\\left\\{E[\\delta \\mid D = 1] -E[\\delta \\mid D = 0]\\right\\}}_{\\text{Differential treatment effect bias}}\n",
    "\\end{align*}\n",
    "\n",
    "<img src=\"material/fig-bias-example.png\" width=\"500\">\n",
    "\n",
    "The additional information provided in the text states that $\\pi = 0.3$ meaning that 30\\% of the sample participate in the treatment.\n",
    "\n",
    "\\begin{align*}\n",
    "ATT & = E[Y_1 - Y_0 \\mid D = 1]= 10 - 6 = 4 \\\\\n",
    "ATC & = E[Y_1 - Y_0 \\mid D = 0] = 8 - 5 = 3 \\\\\n",
    "\\delta^{NAIVE} & = E[Y_1\\mid D = 1] - E[Y_0\\mid D = 0] = 10 - 5 = 5\n",
    "\\end{align*}\n",
    "\n",
    "Now we are ready to calculate the average treatment effect:\n",
    "\n",
    "\\begin{align*}\n",
    "ATE = E[Y_1 - Y_0]  & = \\pi\\, E[Y_1 - Y_0 \\mid D = 1] +  (1 - \\pi)\\, E[Y_1 - Y_0 \\mid D = 0] \\\\\n",
    "& = 0.3 \\times 4 + 0.7 \\times 3 = 3.3\n",
    "\\end{align*}\n",
    "\n",
    "Next, we can determine the different components of the bias.\n",
    "\n",
    "\\begin{align*}\n",
    "\\Delta^{\\text{base}} = E[Y^0\\mid D= 1] - E[Y^0\\mid D= 0] = 6 - 5 =  1 \\\\\n",
    "\\Delta^{\\text{diff}} = (1 - \\pi)\\left( E[\\delta \\mid D = 1] - E[\\delta \\mid D = 0]\\right) = 0.7 \\left( (10 - 6) - (8  - 5 )\\right) = 0.7\n",
    "\\end{align*}\n",
    "\n",
    "There are several different representation of the bias when using the naive estimator of mean difference in observed outcomes by treatment status as an estimate for the effect of treatment. We continue with the exposition in Frölich & Sperlich (2019) and Heckman, Urzua, & Vytlacil (2006).\n",
    "\n",
    "\\begin{align*}\n",
    "E[Y\\mid D = 1] - E[Y\\mid D = 0] & = E[Y^1\\mid D = 1] - E[Y^0\\mid D = 0] \\\\\n",
    "& =E[Y^1\\mid D = 1]  - E[Y^0\\mid D = 1] \\\\\n",
    "& + E[Y^0\\mid D = 1] - E[Y^0\\mid D = 0]  \\\\\n",
    "& = \\underbrace{E[Y^1 - Y^0\\mid D = 1]}_{TT} + \\underbrace{E[Y^0\\mid D= 1]- E[Y^0 \\mid D = 0]}_{\\text{Selection bias}}\n",
    "\\end{align*}\n",
    "\n",
    "Now we can simply add and subtract $E[Y_1 - Y_0]$ to get the more economic version.\n",
    "\n",
    "\\begin{align*}\n",
    "E[Y\\mid D = 1] - E[Y\\mid D = 0] & = \\underbrace{E[Y^1 - Y^0]}_{ATE} \\\\\n",
    "& + \\underbrace{E[Y^1 - Y^0 \\mid D = 1] - E[Y^1 - Y^0]}_{\\text{Sorting on gains}} \\\\\n",
    "& + \\underbrace{E[Y^0\\mid D = 1] - E[Y^0 \\mid D = 0]}_{\\text{Sorting on levels}}\n",
    "\\end{align*}\n",
    "\n",
    "Sorting on levels is simply a different phrase for selection bias. \n",
    "\n",
    "\n",
    "The exposition in our core textbook is slightly different. Here the term **bias** has two separate components which are **baseline bias** and **differential treatment effect bias**. See the discussion in the book in the subsection on the typical inconsistency and bias of the naive estimator. The term baseline bias refers to the concept of sorting and levels and selection bias.\n",
    "\n",
    "Differential treatment bias is defined as:\n",
    "\n",
    "\\begin{align*}\n",
    "E[Y \\mid D = 1] - E[Y \\mid D = 0] & =  \\underbrace{E[\\delta]}_{ATE} + \\underbrace{\\{E[Y^0\\mid D= 1] - E[Y^0\\mid D= 0]\\}}_{\\text{Baseline bias}} \\\\\n",
    "& + \\underbrace{(1 - \\pi) \\{E[\\delta \\mid D = 1] -E[\\delta \\mid D = 0]\\}}_{\\text{Differential treatment effect bias}}\n",
    "\\end{align*}\n",
    "\n",
    "The last term is derived derived from the term describing selection on gains by the following decomposition.\n",
    "\n",
    "\\begin{align*}\n",
    "E[Y^1 - Y^0] = \\pi E [Y^1  - Y^0 \\mid D = 1] + (1 - \\pi) E [Y^1  - Y^0 \\mid D = 0]\n",
    "\\end{align*}\n",
    "\n",
    "It is interpreted as the difference in effects between treated and control weighted by  the share of control individuals. It is probably best thought of as an increment to the first term describing the average effect of treatment."
   ]
  },
  {
   "cell_type": "markdown",
   "metadata": {
    "slideshow": {
     "slide_type": "slide"
    }
   },
   "source": [
    "#### Assumptions\n",
    "\n",
    "So, the SUTVA assumption is only necessary but not sufficient to learn about the effect of treatment in light of the biases discussed above. We are still stuck with several unknowns that we need to compute the average effect of treatment.\n",
    "\n",
    "Consider the following two assumptions:\n",
    "\n",
    "\\begin{align*}\n",
    "E[Y^1\\mid D = 1] = E[Y^1\\mid D = 0] \\\\\n",
    "E[Y^0\\mid D = 1] = E[Y^0\\mid D = 0] \\\\\n",
    "\\end{align*}\n",
    "\n",
    "and recall our naive estimate \n",
    "\n",
    "\n",
    "\\begin{align*}\n",
    "\\hat{\\delta}_{NAIVE} & = E_N[y_i\\mid d_i = 1] - E_N[y_i\\mid d_i = 0] \\\\\n",
    "& \\xrightarrow{p} E[Y^1\\mid D = 1] - E[Y^0\\mid D = 0] \n",
    "\\end{align*}\n",
    "\n",
    "* What assumptions suffice to estimate the ATE with the naive estimator?\n",
    "\n",
    "    * about potential outcomes for subsets of the population \n",
    "    * about the treatment selection / assignment process "
   ]
  },
  {
   "cell_type": "markdown",
   "metadata": {
    "slideshow": {
     "slide_type": "slide"
    }
   },
   "source": [
    "### Missing data and imputation"
   ]
  },
  {
   "cell_type": "markdown",
   "metadata": {
    "slideshow": {
     "slide_type": "slide"
    }
   },
   "source": [
    "This is an adopted example from Imbens & Rubin (2015)."
   ]
  },
  {
   "cell_type": "code",
   "execution_count": 84,
   "metadata": {
    "slideshow": {
     "slide_type": "-"
    }
   },
   "outputs": [
    {
     "data": {
      "text/html": [
       "<div>\n",
       "<style scoped>\n",
       "    .dataframe tbody tr th:only-of-type {\n",
       "        vertical-align: middle;\n",
       "    }\n",
       "\n",
       "    .dataframe tbody tr th {\n",
       "        vertical-align: top;\n",
       "    }\n",
       "\n",
       "    .dataframe thead th {\n",
       "        text-align: right;\n",
       "    }\n",
       "</style>\n",
       "<table border=\"1\" class=\"dataframe\">\n",
       "  <thead>\n",
       "    <tr style=\"text-align: right;\">\n",
       "      <th></th>\n",
       "      <th>treat</th>\n",
       "      <th>re78</th>\n",
       "      <th>Y</th>\n",
       "      <th>Y_0</th>\n",
       "      <th>Y_1</th>\n",
       "      <th>D</th>\n",
       "    </tr>\n",
       "  </thead>\n",
       "  <tbody>\n",
       "    <tr>\n",
       "      <th>100</th>\n",
       "      <td>1</td>\n",
       "      <td>0.000</td>\n",
       "      <td>0.000</td>\n",
       "      <td>NaN</td>\n",
       "      <td>0.0</td>\n",
       "      <td>1</td>\n",
       "    </tr>\n",
       "    <tr>\n",
       "      <th>561</th>\n",
       "      <td>0</td>\n",
       "      <td>5670.820</td>\n",
       "      <td>5670.820</td>\n",
       "      <td>5670.820</td>\n",
       "      <td>NaN</td>\n",
       "      <td>0</td>\n",
       "    </tr>\n",
       "    <tr>\n",
       "      <th>130</th>\n",
       "      <td>1</td>\n",
       "      <td>0.000</td>\n",
       "      <td>0.000</td>\n",
       "      <td>NaN</td>\n",
       "      <td>0.0</td>\n",
       "      <td>1</td>\n",
       "    </tr>\n",
       "    <tr>\n",
       "      <th>318</th>\n",
       "      <td>0</td>\n",
       "      <td>0.000</td>\n",
       "      <td>0.000</td>\n",
       "      <td>0.000</td>\n",
       "      <td>NaN</td>\n",
       "      <td>0</td>\n",
       "    </tr>\n",
       "    <tr>\n",
       "      <th>687</th>\n",
       "      <td>0</td>\n",
       "      <td>7659.218</td>\n",
       "      <td>7659.218</td>\n",
       "      <td>7659.218</td>\n",
       "      <td>NaN</td>\n",
       "      <td>0</td>\n",
       "    </tr>\n",
       "  </tbody>\n",
       "</table>\n",
       "</div>"
      ],
      "text/plain": [
       "     treat      re78         Y       Y_0  Y_1  D\n",
       "100      1     0.000     0.000       NaN  0.0  1\n",
       "561      0  5670.820  5670.820  5670.820  NaN  0\n",
       "130      1     0.000     0.000       NaN  0.0  1\n",
       "318      0     0.000     0.000     0.000  NaN  0\n",
       "687      0  7659.218  7659.218  7659.218  NaN  0"
      ]
     },
     "execution_count": 84,
     "metadata": {},
     "output_type": "execute_result"
    }
   ],
   "source": [
    "df = get_lalonde_data()\n",
    "df.head()"
   ]
  },
  {
   "cell_type": "markdown",
   "metadata": {
    "slideshow": {
     "slide_type": "slide"
    }
   },
   "source": [
    "We can impute the missing values simply by their average counterpart."
   ]
  },
  {
   "cell_type": "code",
   "execution_count": 71,
   "metadata": {
    "slideshow": {
     "slide_type": "-"
    }
   },
   "outputs": [],
   "source": [
    "is_treated = df[\"D\"] == 1\n",
    "\n",
    "df.loc[~is_treated, \"Y_1\"] = df.loc[is_treated, \"Y\"].mean()\n",
    "df.loc[is_treated, \"Y_0\"] = df.loc[~is_treated, \"Y\"].mean()"
   ]
  },
  {
   "cell_type": "code",
   "execution_count": 50,
   "metadata": {},
   "outputs": [
    {
     "data": {
      "text/html": [
       "<div>\n",
       "<style scoped>\n",
       "    .dataframe tbody tr th:only-of-type {\n",
       "        vertical-align: middle;\n",
       "    }\n",
       "\n",
       "    .dataframe tbody tr th {\n",
       "        vertical-align: top;\n",
       "    }\n",
       "\n",
       "    .dataframe thead th {\n",
       "        text-align: right;\n",
       "    }\n",
       "</style>\n",
       "<table border=\"1\" class=\"dataframe\">\n",
       "  <thead>\n",
       "    <tr style=\"text-align: right;\">\n",
       "      <th></th>\n",
       "      <th>treat</th>\n",
       "      <th>re78</th>\n",
       "      <th>Y</th>\n",
       "      <th>Y_0</th>\n",
       "      <th>Y_1</th>\n",
       "      <th>D</th>\n",
       "    </tr>\n",
       "  </thead>\n",
       "  <tbody>\n",
       "    <tr>\n",
       "      <th>479</th>\n",
       "      <td>0</td>\n",
       "      <td>6930.336</td>\n",
       "      <td>6930.336</td>\n",
       "      <td>6930.336</td>\n",
       "      <td>NaN</td>\n",
       "      <td>0</td>\n",
       "    </tr>\n",
       "    <tr>\n",
       "      <th>480</th>\n",
       "      <td>0</td>\n",
       "      <td>3795.799</td>\n",
       "      <td>3795.799</td>\n",
       "      <td>3795.799</td>\n",
       "      <td>NaN</td>\n",
       "      <td>0</td>\n",
       "    </tr>\n",
       "    <tr>\n",
       "      <th>343</th>\n",
       "      <td>0</td>\n",
       "      <td>0.000</td>\n",
       "      <td>0.000</td>\n",
       "      <td>0.000</td>\n",
       "      <td>NaN</td>\n",
       "      <td>0</td>\n",
       "    </tr>\n",
       "    <tr>\n",
       "      <th>690</th>\n",
       "      <td>0</td>\n",
       "      <td>2652.625</td>\n",
       "      <td>2652.625</td>\n",
       "      <td>2652.625</td>\n",
       "      <td>NaN</td>\n",
       "      <td>0</td>\n",
       "    </tr>\n",
       "    <tr>\n",
       "      <th>70</th>\n",
       "      <td>1</td>\n",
       "      <td>0.000</td>\n",
       "      <td>0.000</td>\n",
       "      <td>NaN</td>\n",
       "      <td>0.0</td>\n",
       "      <td>1</td>\n",
       "    </tr>\n",
       "  </tbody>\n",
       "</table>\n",
       "</div>"
      ],
      "text/plain": [
       "     treat      re78         Y       Y_0  Y_1  D\n",
       "479      0  6930.336  6930.336  6930.336  NaN  0\n",
       "480      0  3795.799  3795.799  3795.799  NaN  0\n",
       "343      0     0.000     0.000     0.000  NaN  0\n",
       "690      0  2652.625  2652.625  2652.625  NaN  0\n",
       "70       1     0.000     0.000       NaN  0.0  1"
      ]
     },
     "execution_count": 50,
     "metadata": {},
     "output_type": "execute_result"
    }
   ],
   "source": [
    "df.head()"
   ]
  },
  {
   "cell_type": "code",
   "execution_count": 72,
   "metadata": {},
   "outputs": [
    {
     "name": "stdout",
     "output_type": "stream",
     "text": [
      "Our estimated treatment effect is     886.30\n"
     ]
    }
   ],
   "source": [
    "initial_stat = (df[\"Y_1\"] - df[\"Y_0\"]).mean()\n",
    "print(f\"Our estimated treatment effect is {initial_stat:10.2f}\")"
   ]
  },
  {
   "cell_type": "markdown",
   "metadata": {
    "slideshow": {
     "slide_type": "slide"
    }
   },
   "source": [
    "However, this does not really account for any uncertainty in our estimate. Can we do better? We now switch to the imputation of the counterfactual outcome on the individual level."
   ]
  },
  {
   "cell_type": "code",
   "execution_count": 80,
   "metadata": {
    "slideshow": {
     "slide_type": "-"
    }
   },
   "outputs": [
    {
     "name": "stdout",
     "output_type": "stream",
     "text": [
      "Our estimated treatment effect is     907.86\n"
     ]
    }
   ],
   "source": [
    "np.random.seed(123)  # set seed to ensure reproducibility\n",
    "df = get_lalonde_data()  # get the original data\n",
    "\n",
    "status_counts = df[\"D\"].value_counts().to_dict()\n",
    "\n",
    "stats = list()\n",
    "for _ in range(100):\n",
    "    y_1_sampled = df[\"Y_1\"].dropna().sample(n=status_counts[0], replace=True).values\n",
    "    y_0_sampled = df[\"Y_0\"].dropna().sample(n=status_counts[1], replace=True).values\n",
    "\n",
    "    df_boot = df.copy()\n",
    "\n",
    "    is_treated = df_boot[\"D\"] == 1\n",
    "    df_boot.loc[is_treated, \"Y_0\"] = y_0_sampled\n",
    "    df_boot.loc[~is_treated, \"Y_1\"] = y_1_sampled\n",
    "\n",
    "    stat = (df_boot[\"Y_1\"] - df_boot[\"Y_0\"]).mean()\n",
    "    stats.append(stat)\n",
    "print(f\"Our estimated treatment effect is {np.mean(stats):10.2f}\")"
   ]
  },
  {
   "cell_type": "markdown",
   "metadata": {
    "slideshow": {
     "slide_type": "slide"
    }
   },
   "source": [
    "How does the full distribution of estimates look like?"
   ]
  },
  {
   "cell_type": "code",
   "execution_count": 74,
   "metadata": {
    "slideshow": {
     "slide_type": "-"
    }
   },
   "outputs": [
    {
     "data": {
      "text/plain": [
       "<matplotlib.legend.Legend at 0x1e0ed15f7c0>"
      ]
     },
     "execution_count": 74,
     "metadata": {},
     "output_type": "execute_result"
    },
    {
     "data": {
      "image/png": "[encoded data removed]",
      "text/plain": [
       "<Figure size 432x288 with 1 Axes>"
      ]
     },
     "metadata": {
      "needs_background": "light"
     },
     "output_type": "display_data"
    }
   ],
   "source": [
    "fig, ax = plt.subplots()\n",
    "ax.hist(stats)\n",
    "ax.set_xlabel(\"Statistic\")\n",
    "ax.set_ylabel(\"Frequency\")\n",
    "ax.vlines(initial_stat, 0, 30, linestyles=\"--\", label=\"Initial\", color=\"lightgrey\")\n",
    "ax.legend()"
   ]
  },
  {
   "cell_type": "markdown",
   "metadata": {
    "slideshow": {
     "slide_type": "slide"
    }
   },
   "source": [
    "Still some limitations remains. For example, we do sample from the empirical distribution of the observed outcomes and not the actual distribution. Phrased differently, we treat the distribution of potential outcomes as known and abstract from any uncertainty in our knowledge about it."
   ]
  },
  {
   "cell_type": "markdown",
   "metadata": {
    "slideshow": {
     "slide_type": "slide"
    }
   },
   "source": [
    "### Extensions of the binary potential outcome model"
   ]
  },
  {
   "cell_type": "markdown",
   "metadata": {
    "slideshow": {
     "slide_type": "slide"
    },
    "toc-hr-collapsed": true,
    "toc-nb-collapsed": true
   },
   "source": [
    "* over-time potential outcomes and causal effects\n",
    "    * a single unit over time (time series data)\n",
    "    * many units over time (panel data)\n",
    "    \n",
    "* many-valued treatments"
   ]
  },
  {
   "cell_type": "markdown",
   "metadata": {
    "slideshow": {
     "slide_type": "slide"
    }
   },
   "source": [
    "#### Over-time potential outcomes"
   ]
  },
  {
   "cell_type": "markdown",
   "metadata": {
    "slideshow": {
     "slide_type": "slide"
    },
    "toc-hr-collapsed": true,
    "toc-nb-collapsed": true
   },
   "source": [
    "We explore the case of a single unit over time.\n",
    "\n",
    "**Ingredients** \n",
    "\n",
    "* discrete time periods, $t\\in\\{1, ..., T\\}$\n",
    "* sequence of observed values, $\\{y_1, y_2, ..., y_T\\}$\n",
    "* treatment initiated in $t^*$ \n",
    "* duration of treatment $k$"
   ]
  },
  {
   "cell_type": "markdown",
   "metadata": {
    "slideshow": {
     "slide_type": "slide"
    }
   },
   "source": [
    "\n",
    "Setting up the potential outcome model to explore the basic features of before-and-after designs for a single unit of analsysis.\n",
    "\n",
    "* before the treatment is introduced (for $t < t^*$):\n",
    "\n",
    "\\begin{align*}\n",
    "D_t & = 0 \\\\\n",
    "Y_t & = Y^0_t\\\\\n",
    "\\end{align*}\n",
    "\n",
    "* while the treatment is in place (from $t^*$ through $t^* + k$):\n",
    "\n",
    "\\begin{align*}\n",
    "D_t & = 1 \\\\\n",
    "Y_t & = Y^1_t\\\\\n",
    "Y^0_t & \\text{exists but is counterfactual}\n",
    "\\end{align*}\n",
    "\n",
    "* after the treatment ends (for time periods $t > (t^* + k)$):\n",
    "\\begin{align*}\n",
    "D_t & = 0 \\\\\n",
    "Y_t & = Y^0_t\\\\\n",
    "Y^1_t & \\text{exists but is counterfactual}\n",
    "\\end{align*}"
   ]
  },
  {
   "cell_type": "markdown",
   "metadata": {
    "slideshow": {
     "slide_type": "slide"
    }
   },
   "source": [
    "The following is an adapted example from our textbook. \n",
    "\n",
    "#### Year of the fire horse\n",
    "\n",
    "We study the effect of Japanese folk belief that families who give birth to babies will suffer untold miseries. This example does not only illustrative the versatility of the potential outcome framework but also serves as an example that different approaches (informed by domain-expertise) can result in different reasonable imputations for the counterfactual outcome.\n",
    "\n",
    "<img src=\"material/fig-birth-rates.png\" width=\"500\">\n",
    "\n",
    "The treatment indicator is as follows: $D_{1966} = 1$ and $D_{\\neq 1966} = 0$ and we are interested in its effect on the birth rate in Japan\n",
    "\n",
    "\\begin{align*}\n",
    "\\delta_{1966} = y^1_{1966} - y^0_{1966}.\n",
    "\\end{align*}\n",
    "\n",
    "A reasonable approach is to estimate it by:\n",
    "\n",
    "\\begin{align*}\n",
    "\\hat{\\delta}_{1966} & = y_{1966} - y^0_{1966}\\\\\n",
    "\\end{align*}"
   ]
  },
  {
   "cell_type": "code",
   "execution_count": 85,
   "metadata": {},
   "outputs": [
    {
     "data": {
      "text/html": [
       "<div>\n",
       "<style scoped>\n",
       "    .dataframe tbody tr th:only-of-type {\n",
       "        vertical-align: middle;\n",
       "    }\n",
       "\n",
       "    .dataframe tbody tr th {\n",
       "        vertical-align: top;\n",
       "    }\n",
       "\n",
       "    .dataframe thead th {\n",
       "        text-align: right;\n",
       "    }\n",
       "</style>\n",
       "<table border=\"1\" class=\"dataframe\">\n",
       "  <thead>\n",
       "    <tr style=\"text-align: right;\">\n",
       "      <th></th>\n",
       "      <th>Birth rate</th>\n",
       "    </tr>\n",
       "    <tr>\n",
       "      <th>Year</th>\n",
       "      <th></th>\n",
       "    </tr>\n",
       "  </thead>\n",
       "  <tbody>\n",
       "    <tr>\n",
       "      <th>1960</th>\n",
       "      <td>17.3</td>\n",
       "    </tr>\n",
       "    <tr>\n",
       "      <th>1961</th>\n",
       "      <td>17</td>\n",
       "    </tr>\n",
       "    <tr>\n",
       "      <th>1962</th>\n",
       "      <td>17.1</td>\n",
       "    </tr>\n",
       "    <tr>\n",
       "      <th>1963</th>\n",
       "      <td>17.4</td>\n",
       "    </tr>\n",
       "    <tr>\n",
       "      <th>1964</th>\n",
       "      <td>17.8</td>\n",
       "    </tr>\n",
       "  </tbody>\n",
       "</table>\n",
       "</div>"
      ],
      "text/plain": [
       "     Birth rate\n",
       "Year           \n",
       "1960       17.3\n",
       "1961         17\n",
       "1962       17.1\n",
       "1963       17.4\n",
       "1964       17.8"
      ]
     },
     "execution_count": 85,
     "metadata": {},
     "output_type": "execute_result"
    }
   ],
   "source": [
    "df = pd.read_csv(\"material/world_bank.csv\", skiprows=4)\n",
    "df.set_index(\"Country Code\", inplace=True)\n",
    "df.drop([\"Indicator Name\", \"Indicator Code\"], axis=1, inplace=True)\n",
    "\n",
    "df = df.loc[\"JPN\", \"1960\":\"2017\"]\n",
    "df = df.to_frame()\n",
    "df.index.name = \"Year\"\n",
    "df.columns = [\"Birth rate\"]\n",
    "\n",
    "df.sort_index(inplace=True)\n",
    "df.index = df.index.astype(int)\n",
    "df.head()"
   ]
  },
  {
   "cell_type": "markdown",
   "metadata": {
    "slideshow": {
     "slide_type": "slide"
    }
   },
   "source": [
    "Let's get to work."
   ]
  },
  {
   "cell_type": "code",
   "execution_count": 86,
   "metadata": {
    "slideshow": {
     "slide_type": "-"
    }
   },
   "outputs": [
    {
     "data": {
      "text/plain": [
       "Text(0.5, 0, 'Year')"
      ]
     },
     "execution_count": 86,
     "metadata": {},
     "output_type": "execute_result"
    },
    {
     "data": {
      "image/png": "[encoded data removed]",
      "text/plain": [
       "<Figure size 432x288 with 1 Axes>"
      ]
     },
     "metadata": {
      "needs_background": "light"
     },
     "output_type": "display_data"
    }
   ],
   "source": [
    "fig, ax = plt.subplots()\n",
    "ax.plot(df[\"Birth rate\"].index, df[\"Birth rate\"])\n",
    "ax.set_ylabel(\"Birth rate\")\n",
    "ax.set_xlabel(\"Year\")"
   ]
  },
  {
   "cell_type": "code",
   "execution_count": 87,
   "metadata": {
    "slideshow": {
     "slide_type": "slide"
    }
   },
   "outputs": [
    {
     "data": {
      "text/plain": [
       "Year\n",
       "1960    17.3\n",
       "1961      17\n",
       "1962    17.1\n",
       "1963    17.4\n",
       "1964    17.8\n",
       "1965    18.7\n",
       "1966    13.8\n",
       "1967    19.4\n",
       "1968    18.7\n",
       "1969    18.5\n",
       "1970    18.7\n",
       "Name: Birth rate, dtype: object"
      ]
     },
     "execution_count": 87,
     "metadata": {},
     "output_type": "execute_result"
    }
   ],
   "source": [
    "df.loc[slice(1960, 1970), \"Birth rate\"]"
   ]
  },
  {
   "cell_type": "markdown",
   "metadata": {},
   "source": [
    "We can just take the year before or after treatment?"
   ]
  },
  {
   "cell_type": "code",
   "execution_count": 88,
   "metadata": {},
   "outputs": [
    {
     "name": "stdout",
     "output_type": "stream",
     "text": [
      " Using the year before, the treatment effect is   -4.90000\n",
      " Using the year after, the treatment effect is   -5.60000\n"
     ]
    }
   ],
   "source": [
    "estimates = list()\n",
    "for label, year in [(\"before\", 1965), (\"after\", 1967)]:\n",
    "    y_0 = df.loc[year, \"Birth rate\"]\n",
    "    y_1 = df.loc[1966, \"Birth rate\"]\n",
    "    print(f\" Using the year {label}, the treatment effect is {y_1 - y_0:10.5f}\")\n",
    "    estimates.append(y_1 - y_0)"
   ]
  },
  {
   "cell_type": "markdown",
   "metadata": {},
   "source": [
    "Among demographers, there is the consensus that taking the average of 1963 and 1969 the way to go instead."
   ]
  },
  {
   "cell_type": "code",
   "execution_count": 89,
   "metadata": {
    "slideshow": {
     "slide_type": "slide"
    }
   },
   "outputs": [
    {
     "name": "stdout",
     "output_type": "stream",
     "text": [
      " Another treatment effect is   -4.15000\n"
     ]
    }
   ],
   "source": [
    "y_0 = df.loc[[1963, 1969], \"Birth rate\"].mean()\n",
    "y_1 = df.loc[1966, \"Birth rate\"]\n",
    "print(\" Another treatment effect is {:10.5f}\".format(y_1 - y_0))\n",
    "estimates.append(y_1 - y_0)"
   ]
  },
  {
   "cell_type": "markdown",
   "metadata": {},
   "source": [
    "Now we have multiple effects of treatment. Which is it?"
   ]
  },
  {
   "cell_type": "code",
   "execution_count": 90,
   "metadata": {},
   "outputs": [
    {
     "data": {
      "text/plain": [
       "Text(0, 0.5, 'Effect')"
      ]
     },
     "execution_count": 90,
     "metadata": {},
     "output_type": "execute_result"
    },
    {
     "data": {
      "image/png": "[encoded data removed]",
      "text/plain": [
       "<Figure size 432x288 with 1 Axes>"
      ]
     },
     "metadata": {
      "needs_background": "light"
     },
     "output_type": "display_data"
    }
   ],
   "source": [
    "labels = [\"Before\", \"After\", \"Average\"]\n",
    "fig, ax = plt.subplots()\n",
    "ax.bar(labels, estimates)\n",
    "ax.set_ylabel(\"Effect\")"
   ]
  },
  {
   "cell_type": "markdown",
   "metadata": {},
   "source": [
    "### Additional resources"
   ]
  },
  {
   "cell_type": "markdown",
   "metadata": {
    "toc-hr-collapsed": true,
    "toc-nb-collapsed": true
   },
   "source": [
    "* **Imbens, G. W. (2020)**. [Potential outcome and directed acyclic graph approaches to causality: Relevance for empirical practice in economics](https://www.aeaweb.org/articles?id=10.1257/jel.20191597), *Journal of Economic Literature*, 58(4), 1129-79."
   ]
  },
  {
   "cell_type": "markdown",
   "metadata": {},
   "source": [
    "### Resources"
   ]
  },
  {
   "cell_type": "markdown",
   "metadata": {
    "toc-hr-collapsed": true,
    "toc-nb-collapsed": true
   },
   "source": [
    "* **Frölich, M., and Sperlich, S. (2019)** . [Impact evaluation: Treatment effects and causal analysis](https://www.cambridge.org/de/academic/subjects/economics/econometrics-statistics-and-mathematical-economics/impact-evaluation-treatment-effects-and-causal-analysis?format=AR&isbn=9781108617772). Cambridge, England: *Cambridge University Press*.\n",
    "\n",
    "\n",
    "* **Heckman, J. J., Urzua, S. and Vytlacil, E. (2006)**. [Understanding instrumental variables in models with essential heterogeneity](https://www.nber.org/system/files/working_papers/w12574/w12574.pdf). *Review of Economics and Statistics*, 88(3), 389–432.\n",
    "\n",
    "\n",
    "* **Holland, P. W. (1986)**. [Statistics and causal inference](https://www.jstor.org/stable/2289064?seq=1). *Journal of the American Statistical Association*, 81(396), 945–960.  \n",
    "\n",
    "\n",
    "* **Imbens, G. W., and Rubin, D. B. (2015)**. [Causal inference in statistics, social, and biomedical sciences](https://www.cambridge.org/core/books/causal-inference-for-statistics-social-and-biomedical-sciences/71126BE90C58F1A431FE9B2DD07938AB). New York, NY: *Cambridge University Press*. \n",
    "\n",
    "\n",
    "* **Rosenbaum, P. R. (2002)**. [Overt bias in observational studies](https://link.springer.com/chapter/10.1007%2F978-1-4757-3692-2_3). *Observational studies*, 71–104, New York, NY: *Springer*.\n"
   ]
  }
 ],
 "metadata": {
  "kernelspec": {
   "display_name": "Python 3",
   "language": "python",
   "name": "python3"
  },
  "language_info": {
   "codemirror_mode": {
    "name": "ipython",
    "version": 3
   },
   "file_extension": ".py",
   "mimetype": "text/x-python",
   "name": "python",
   "nbconvert_exporter": "python",
   "pygments_lexer": "ipython3",
   "version": "3.8.5"
  },
  "latex_envs": {
   "LaTeX_envs_menu_present": true,
   "autoclose": false,
   "autocomplete": true,
   "bibliofile": "literature.bib",
   "cite_by": "apalike",
   "current_citInitial": 1,
   "eqLabelWithNumbers": true,
   "eqNumInitial": 1,
   "hotkeys": {
    "equation": "Ctrl-E",
    "itemize": "Ctrl-I"
   },
   "labels_anchors": false,
   "latex_user_defs": false,
   "report_style_numbering": false,
   "user_envs_cfg": false
  },
  "pycharm": {
   "stem_cell": {
    "cell_type": "raw",
    "metadata": {
     "collapsed": false
    },
    "source": []
   }
  },
  "toc-autonumbering": false,
  "toc-showcode": false,
  "toc-showmarkdowntxt": false,
  "toc-showtags": true,
  "varInspector": {
   "cols": {
    "lenName": 16,
    "lenType": 16,
    "lenVar": 40
   },
   "kernels_config": {
    "python": {
     "delete_cmd_postfix": "",
     "delete_cmd_prefix": "del ",
     "library": "var_list.py",
     "varRefreshCmd": "print(var_dic_list())"
    },
    "r": {
     "delete_cmd_postfix": ") ",
     "delete_cmd_prefix": "rm(",
     "library": "var_list.r",
     "varRefreshCmd": "cat(var_dic_list()) "
    }
   },
   "types_to_exclude": [
    "module",
    "function",
    "builtin_function_or_method",
    "instance",
    "_Feature"
   ],
   "window_display": false
  }
 },
 "nbformat": 4,
 "nbformat_minor": 4
}
