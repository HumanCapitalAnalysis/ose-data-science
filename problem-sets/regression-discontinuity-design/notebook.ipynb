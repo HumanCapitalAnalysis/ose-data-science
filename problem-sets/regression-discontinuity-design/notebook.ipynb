{
 "cells": [
  {
   "cell_type": "code",
   "execution_count": 1,
   "metadata": {},
   "outputs": [],
   "source": [
    "from functools import partial\n",
    "import os\n",
    "\n",
    "import statsmodels.formula.api as smf\n",
    "import pickle as pkl\n",
    "import pandas as pd\n",
    "import numpy as np\n",
    "\n",
    "from sklearn.linear_model import LogisticRegression\n",
    "from sklearn.model_selection import cross_val_score\n",
    "from sklearn.linear_model import LinearRegression\n",
    "from sklearn.model_selection import LeaveOneOut\n",
    "\n",
    "from auxiliary import plot_bandwidth\n",
    "from auxiliary import plot_logistic"
   ]
  },
  {
   "cell_type": "markdown",
   "metadata": {},
   "source": [
    "# Regression Discontinuity Design (RDD)"
   ]
  },
  {
   "cell_type": "markdown",
   "metadata": {},
   "source": [
    "In the problem set we are going to practice RDD in the Lee (2008) framework. We employ the original simplified data set on the individual candidates for the US House of Representatives from 1946 to 1998. If a candidate obtains more votes than his or her competitors, he or she takes the office. Each elected candidate represents one of 435 congressional districts. The elections are held every two years. We seek the answer to the question whether winning the election has a causal influence on the probability that the candidate will win the next election.\n",
    "\n",
    "The observations of the data set **individ_final.dta** are clustered by district and election year. It consists of the following variables:*\n",
    "\n",
    "- **outcome** is a treatment variable; it is coded as 1 if a candidate won the election in the corresponding year and 0 – otherwise.\n",
    "\n",
    "- **outcomenext** is an outcome variable. It is coded as 1 if a candidate won the next election; as 0 if he or she did not win the next election; and as -1 if he or she did not participate in the next election.\n",
    "\n",
    "- **difshare** is an assignment variable; it is the winning candidate’s vote share minus the vote share of the highest performing competitor. Therefore, 0 is the cutoff point: a candidate whose vote share is more than 0 is automatically assigned to treatment."
   ]
  },
  {
   "cell_type": "code",
   "execution_count": 2,
   "metadata": {},
   "outputs": [
    {
     "data": {
      "text/plain": [
       "(26077, 4)"
      ]
     },
     "execution_count": 2,
     "metadata": {},
     "output_type": "execute_result"
    }
   ],
   "source": [
    "df = pd.read_stata(\"data/individ_final.dta\")\n",
    "df.index.set_names(\"Identifier\", inplace=True)\n",
    "df.head()\n",
    "\n",
    "# Better handling of missing values\n",
    "df.replace({'outcomenext': {-1: np.nan}}, inplace=True)\n",
    "\n",
    "df.shape"
   ]
  },
  {
   "cell_type": "markdown",
   "metadata": {},
   "source": [
    "## Task A"
   ]
  },
  {
   "cell_type": "markdown",
   "metadata": {},
   "source": [
    "*What is the main assumption that makes RDD possible? Define the local randomization condition in the simplified setup presented in the lecture.*"
   ]
  },
  {
   "cell_type": "markdown",
   "metadata": {},
   "source": [
    "Main assumption: agents are unable to precisely control the assignment variable near the known cutoff what leads to the randomized variation in treatment near the threshold.\n",
    "\n",
    "The framework:\n",
    "$$Y = D \\tau + W \\delta_1 + U$$\n",
    "$$D = I(X \\geq c)$$\n",
    "$$X = W \\delta_2 + V,$$\n",
    "\n",
    "where:\n",
    "- Y is the outcome of interest, \n",
    "- D is the binary treatment indicator, \n",
    "- W is the vector of all predetermined and observable characteristics of the individual that might impact Y and/or X,\n",
    "- X is the assignment variable,\n",
    "- c is the cutoff value\n",
    "\n",
    "Individuals have imprecise control over X when conditional on W = w and U = u, the density of V (and hence X) is continuous. \n",
    "\n",
    "**Definition of Local Randomization:** If individuals have imprecise control over X, then Pr\\[W = w,U = u|X = x\\] is continuous in x: the treatment is “as good as” randomly assigned around the cutoff."
   ]
  },
  {
   "cell_type": "markdown",
   "metadata": {},
   "source": [
    "## Task B"
   ]
  },
  {
   "cell_type": "markdown",
   "metadata": {},
   "source": [
    "A major advantage of the RD design over competing methods is its transparency, which can be illustrated using graphical methods. A standard way of graphing the data is to divide the assignment variable into a number of bins, making sure there are two separate bins on each side of the cutoff point. Then, the average value of the outcome variable can be computed for each bin and graphed against the mid-points of the bins."
   ]
  },
  {
   "cell_type": "markdown",
   "metadata": {},
   "source": [
    "## Task B.1"
   ]
  },
  {
   "cell_type": "markdown",
   "metadata": {},
   "source": [
    "Create a new variable that groups the assignment variable values into 400 bins with a size of 0.005."
   ]
  },
  {
   "cell_type": "code",
   "execution_count": 3,
   "metadata": {},
   "outputs": [
    {
     "data": {
      "text/html": [
       "<div>\n",
       "<style scoped>\n",
       "    .dataframe tbody tr th:only-of-type {\n",
       "        vertical-align: middle;\n",
       "    }\n",
       "\n",
       "    .dataframe tbody tr th {\n",
       "        vertical-align: top;\n",
       "    }\n",
       "\n",
       "    .dataframe thead th {\n",
       "        text-align: right;\n",
       "    }\n",
       "</style>\n",
       "<table border=\"1\" class=\"dataframe\">\n",
       "  <thead>\n",
       "    <tr style=\"text-align: right;\">\n",
       "      <th></th>\n",
       "      <th>year</th>\n",
       "      <th>outcome</th>\n",
       "      <th>outcomenext</th>\n",
       "      <th>difshare</th>\n",
       "      <th>bin</th>\n",
       "    </tr>\n",
       "    <tr>\n",
       "      <th>Identifier</th>\n",
       "      <th></th>\n",
       "      <th></th>\n",
       "      <th></th>\n",
       "      <th></th>\n",
       "      <th></th>\n",
       "    </tr>\n",
       "  </thead>\n",
       "  <tbody>\n",
       "    <tr>\n",
       "      <th>18052</th>\n",
       "      <td>1960</td>\n",
       "      <td>0</td>\n",
       "      <td>NaN</td>\n",
       "      <td>-0.997953</td>\n",
       "      <td>-1.0</td>\n",
       "    </tr>\n",
       "    <tr>\n",
       "      <th>16649</th>\n",
       "      <td>1946</td>\n",
       "      <td>0</td>\n",
       "      <td>NaN</td>\n",
       "      <td>-0.999208</td>\n",
       "      <td>-1.0</td>\n",
       "    </tr>\n",
       "    <tr>\n",
       "      <th>16651</th>\n",
       "      <td>1950</td>\n",
       "      <td>0</td>\n",
       "      <td>NaN</td>\n",
       "      <td>-0.999915</td>\n",
       "      <td>-1.0</td>\n",
       "    </tr>\n",
       "    <tr>\n",
       "      <th>16653</th>\n",
       "      <td>1952</td>\n",
       "      <td>0</td>\n",
       "      <td>NaN</td>\n",
       "      <td>-0.997832</td>\n",
       "      <td>-1.0</td>\n",
       "    </tr>\n",
       "    <tr>\n",
       "      <th>16655</th>\n",
       "      <td>1954</td>\n",
       "      <td>0</td>\n",
       "      <td>NaN</td>\n",
       "      <td>-0.999943</td>\n",
       "      <td>-1.0</td>\n",
       "    </tr>\n",
       "  </tbody>\n",
       "</table>\n",
       "</div>"
      ],
      "text/plain": [
       "            year  outcome  outcomenext  difshare  bin\n",
       "Identifier                                           \n",
       "18052       1960        0          NaN -0.997953 -1.0\n",
       "16649       1946        0          NaN -0.999208 -1.0\n",
       "16651       1950        0          NaN -0.999915 -1.0\n",
       "16653       1952        0          NaN -0.997832 -1.0\n",
       "16655       1954        0          NaN -0.999943 -1.0"
      ]
     },
     "execution_count": 3,
     "metadata": {},
     "output_type": "execute_result"
    }
   ],
   "source": [
    "df[\"bin\"] = pd.cut(df[\"difshare\"], 400, labels=False) / 200 - 1\n",
    "df.sort_values(by=\"bin\", inplace=True)\n",
    "df.head()"
   ]
  },
  {
   "cell_type": "markdown",
   "metadata": {},
   "source": [
    "## Task B.2"
   ]
  },
  {
   "cell_type": "markdown",
   "metadata": {},
   "source": [
    "Since we are interested in a causal influence on the probability that the candidate will win the next election based on winning the current election, drop the rows that do not have a comparable next election."
   ]
  },
  {
   "cell_type": "markdown",
   "metadata": {},
   "source": [
    "How many missing values do we have?"
   ]
  },
  {
   "cell_type": "code",
   "execution_count": 4,
   "metadata": {},
   "outputs": [
    {
     "data": {
      "text/plain": [
       "16403"
      ]
     },
     "execution_count": 4,
     "metadata": {},
     "output_type": "execute_result"
    }
   ],
   "source": [
    "df[\"outcomenext\"].isna().sum()"
   ]
  },
  {
   "cell_type": "markdown",
   "metadata": {},
   "source": [
    "Now get rid of all those observations."
   ]
  },
  {
   "cell_type": "code",
   "execution_count": 5,
   "metadata": {},
   "outputs": [],
   "source": [
    "df.dropna(inplace=True)\n",
    "np.testing.assert_equal(df[\"outcomenext\"].isna().sum(), 0)"
   ]
  },
  {
   "cell_type": "markdown",
   "metadata": {},
   "source": [
    "We can now build our remaining pipeline under the assumption that there are no missing values included. However, we might introduce them later again by some accidental operatoin. That is where data validation packages such as [pandera](https://pandera.readthedocs.io/en/stable/index.html) come in handy. **pandera** allows to specify and check properties on your data easily .. and thus frequently."
   ]
  },
  {
   "cell_type": "markdown",
   "metadata": {},
   "source": [
    "## Task B.3"
   ]
  },
  {
   "cell_type": "markdown",
   "metadata": {},
   "source": [
    "Find the mean of the outcome variable for each bin or, in other words, local average. Draw this relationship on the scatterplot."
   ]
  },
  {
   "cell_type": "code",
   "execution_count": 6,
   "metadata": {},
   "outputs": [
    {
     "data": {
      "text/plain": [
       "<AxesSubplot:xlabel='bin'>"
      ]
     },
     "execution_count": 6,
     "metadata": {},
     "output_type": "execute_result"
    },
    {
     "data": {
      "image/png": "[encoded data removed]",
      "text/plain": [
       "<Figure size 432x288 with 1 Axes>"
      ]
     },
     "metadata": {
      "needs_background": "light"
     },
     "output_type": "display_data"
    }
   ],
   "source": [
    "df.groupby(\"bin\").mean()[\"outcomenext\"].sort_index().plot()"
   ]
  },
  {
   "cell_type": "markdown",
   "metadata": {},
   "source": [
    "We will now repeatedly split the data at the cutoff."
   ]
  },
  {
   "cell_type": "code",
   "execution_count": 7,
   "metadata": {},
   "outputs": [],
   "source": [
    "df[\"status\"] = None\n",
    "df.loc[df[\"difshare\"].between(-0.25, +0.00), \"status\"] = \"below\"\n",
    "df.loc[df[\"difshare\"].between(+0.00, +0.25), \"status\"] = \"above\""
   ]
  },
  {
   "cell_type": "markdown",
   "metadata": {},
   "source": [
    "## Task B.4"
   ]
  },
  {
   "cell_type": "markdown",
   "metadata": {},
   "source": [
    "For better visuality we also add to the graph the fitted values of logistic regression around the cutoff. For this apply logistic regression separately on either side of the threshold (we take the bins with the share values from -0.25 to 0.25 and use the package LogisticRegression from sklearn.linear model). Extract probability estimates. Add them to the scatterplot in the proximity of cutoff. Do you observe a discontinuity at the cutoff point?"
   ]
  },
  {
   "cell_type": "code",
   "execution_count": 8,
   "metadata": {},
   "outputs": [
    {
     "data": {
      "image/png": "[encoded data removed]",
      "text/plain": [
       "<Figure size 432x288 with 1 Axes>"
      ]
     },
     "metadata": {
      "needs_background": "light"
     },
     "output_type": "display_data"
    }
   ],
   "source": [
    "probs = dict()\n",
    "\n",
    "lr = LogisticRegression(C=1e20)\n",
    "for label in [\"below\", \"above\"]:\n",
    "\n",
    "    df_subset = df.query(f\"status == '{label}'\")\n",
    "    \n",
    "    y = df_subset[\"outcomenext\"] \n",
    "    x = df_subset[[\"difshare\"]]\n",
    "\n",
    "    lr.fit(x, y)\n",
    "    probs[label] = lr.predict_proba(x)\n",
    "\n",
    "plot_logistic(df, probs)"
   ]
  },
  {
   "cell_type": "markdown",
   "metadata": {},
   "source": [
    "## Task C"
   ]
  },
  {
   "cell_type": "markdown",
   "metadata": {},
   "source": [
    "LLR as a method restricts the estimation to observations close to the cutoff. It is based on the assumption that regression lines within the bins around the cutoff point are close to linear. That helps to avoid some of the drawbacks of other parametric/non-parametrics approaches (Lee & Lemieux (2010))\n",
    "\n",
    "*Run the LLR with a specification $Y = \\alpha_r + \\tau D + \\beta X + \\gamma X D + \\epsilon $, where $X$ is rectricted by a bandwidth: $-h ≥ X ≥ h$. Interpret the result. Experiment with few bandwidths on your choice.*"
   ]
  },
  {
   "cell_type": "code",
   "execution_count": 9,
   "metadata": {},
   "outputs": [
    {
     "name": "stdout",
     "output_type": "stream",
     "text": [
      " Bandwidth: 0.25   Effect 52.439%    pvalue 0.000\n",
      " Bandwidth:  0.2   Effect 49.521%    pvalue 0.000\n",
      " Bandwidth:  0.1   Effect 43.861%    pvalue 0.000\n",
      " Bandwidth: 0.05   Effect 38.910%    pvalue 0.000\n",
      " Bandwidth: 0.01   Effect 25.700%    pvalue 0.069\n"
     ]
    }
   ],
   "source": [
    "for h in [0.25, 0.2, 0.1, 0.05, 0.01]:\n",
    "    df_subset = df[df[\"difshare\"].between(-h, h)]\n",
    "    formula = \"outcomenext ~ outcome + difshare + difshare*outcome\"\n",
    "    rslt = smf.ols(formula=formula, data=df_subset).fit()\n",
    "    info = [h, rslt.params[1] * 100, rslt.pvalues[1]]\n",
    "    print(\" Bandwidth: {:>4}   Effect {:5.3f}%    pvalue {:5.3f}\".format(*info))"
   ]
  },
  {
   "cell_type": "markdown",
   "metadata": {},
   "source": [
    "## Task D"
   ]
  },
  {
   "cell_type": "markdown",
   "metadata": {},
   "source": [
    "As you might find, the treatment effect result is sensitive to the bandwidth choice. In general, choosing a bandwidth in estimation involves finding an optimal balance between precision and bias. One the one hand, using a larger bandwidth yields more precise estimates as more observations are available to estimate the regression. On the other hand, the linear specification is less likely to be accurate (Lee & Lemieux (2010)).\n",
    "\n",
    "We are going to review one of the approaches for choosing a bandwidth – cross-validation “leave one out” procedure. The main idea is to take an observation i in the data, leave it out, run LLR, and use the estimates to predict the value of $Y$ at $X = X_i$. Proceeding with each observation separately on each side of the cutoff, we obtain the predicted values of $Y$ that can be compared to the actual values. The optimal bandwidth is then a value of $h$ that minimizes the mean square of the difference between the predicted and actual values of $Y$. And overall mean square error is simply the average of the squares of the prediction errors on each side of the cutoff.\n",
    "\n",
    "Draw the graph showing the relationship between the bandwidth and the mean square error. What is the optimal bandwidth for LLR in our framework?*"
   ]
  },
  {
   "cell_type": "code",
   "execution_count": 14,
   "metadata": {},
   "outputs": [],
   "source": [
    "num_points = 2\n",
    "bandwidth = np.linspace(0.01, 0.50, num_points)\n",
    "\n",
    "scoring = \"neg_mean_squared_error\"\n",
    "model = LinearRegression()\n",
    "cv = LeaveOneOut()\n",
    "\n",
    "cross_val_score_p = partial(cross_val_score, scoring=scoring, cv=cv)"
   ]
  },
  {
   "cell_type": "markdown",
   "metadata": {},
   "source": [
    "We are ready to now run the actual computations."
   ]
  },
  {
   "cell_type": "code",
   "execution_count": 23,
   "metadata": {},
   "outputs": [],
   "source": [
    "rslts = pd.DataFrame(columns=[\"below\", \"above\", \"joint\"])\n",
    "rslts.index.set_names(\"Bandwidth\", inplace=True)\n",
    "\n",
    "for label in [\"below\", \"above\"]:\n",
    "    for h in bandwidth:\n",
    "\n",
    "        if label == \"below\":\n",
    "            df_subset = df.loc[df[\"difshare\"].between(-h, +0.00)]\n",
    "        else:\n",
    "            df_subset = df.loc[df[\"difshare\"].between(+0.00, +h)]\n",
    "\n",
    "        y = df_subset[[\"outcomenext\"]]\n",
    "        x = df_subset[[\"difshare\"]]\n",
    "\n",
    "        rslts.loc[h, label] = -cross_val_score_p(model, x, y).mean()\n",
    "        \n",
    "rslts[\"joint\"] = rslts[[\"below\", \"above\"]].mean(axis=1)"
   ]
  },
  {
   "cell_type": "markdown",
   "metadata": {},
   "source": [
    "It is time for a visual inspection."
   ]
  },
  {
   "cell_type": "code",
   "execution_count": 24,
   "metadata": {},
   "outputs": [
    {
     "data": {
      "image/png": "[encoded data removed]",
      "text/plain": [
       "<Figure size 432x288 with 1 Axes>"
      ]
     },
     "metadata": {
      "needs_background": "light"
     },
     "output_type": "display_data"
    }
   ],
   "source": [
    "plot_bandwidth(bandwidth, rslts[\"joint\"])"
   ]
  },
  {
   "cell_type": "markdown",
   "metadata": {},
   "source": [
    "What is the optimal bandwith in this setting?"
   ]
  },
  {
   "cell_type": "code",
   "execution_count": 22,
   "metadata": {},
   "outputs": [
    {
     "name": "stdout",
     "output_type": "stream",
     "text": [
      " Optimal bandwidth: 0.500\n"
     ]
    }
   ],
   "source": [
    "print(f\" Optimal bandwidth: {rslts['joint'].idxmin():5.3f}\")"
   ]
  },
  {
   "cell_type": "markdown",
   "metadata": {},
   "source": [
    "## References\n",
    "\n",
    "* **Lee, D. S. (2008)**. [Randomized experiments from non-random selection in US house elections](https://www.sciencedirect.com/science/article/abs/pii/S0304407607001121). *Journal of Econometrics*, 142(2), 675–697.\n",
    "\n",
    "\n",
    "* **Lee, D. S., & Lemieux, T. (2010)**. [Regression discontinuity designs in economics](https://www.aeaweb.org/articles?id=10.1257/jel.48.2.281). *Journal of Economic Literature*, 48, 281-355."
   ]
  }
 ],
 "metadata": {
  "kernelspec": {
   "display_name": "Python 3",
   "language": "python",
   "name": "python3"
  },
  "language_info": {
   "codemirror_mode": {
    "name": "ipython",
    "version": 3
   },
   "file_extension": ".py",
   "mimetype": "text/x-python",
   "name": "python",
   "nbconvert_exporter": "python",
   "pygments_lexer": "ipython3",
   "version": "3.8.10"
  }
 },
 "nbformat": 4,
 "nbformat_minor": 4
}
