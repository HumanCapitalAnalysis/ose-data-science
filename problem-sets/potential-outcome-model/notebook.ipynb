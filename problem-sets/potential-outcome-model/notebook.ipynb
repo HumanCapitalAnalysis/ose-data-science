{
 "cells": [
  {
   "cell_type": "markdown",
   "metadata": {},
   "source": [
    "# Potential outcome model"
   ]
  },
  {
   "cell_type": "code",
   "execution_count": 2,
   "metadata": {},
   "outputs": [],
   "source": [
    "import matplotlib.pyplot as plt\n",
    "import pandas as pd\n",
    "import numpy as np\n",
    "\n",
    "pd.options.display.float_format = \"{:,.2f}\".format"
   ]
  },
  {
   "cell_type": "markdown",
   "metadata": {},
   "source": [
    "The [National Health Interview Survey (NHIS)](https://www.cdc.gov/nchs/nhis/index.htm) collects data on U.S. households since 1957. It covers a broad range of health-related topics, from medical conditions, health insurance, and the number of doctor visits to measures of physical activity. Here we focus on indicators relevant to the Potential outcome model (POM) framework. In particular, we will compare the health status of hospitalized and non-hospitalized individuals in 2018. For this purpose, we use answers to the survey question **During the past 12 months, has the respondent been hospitalized overnight?** with potential answers **Yes** and **No**, which we code as one and zero. Further, we consider answers to the questions **Would you say your health, in general, is excellent, very good, good, fair, poor?** where responses are coded as one for poor health up to five for excellent health. The survey also collects data on relevant characteristics as sex, age, level of education, hours worked last week, and total earnings."
   ]
  },
  {
   "cell_type": "markdown",
   "metadata": {},
   "source": [
    "Import the data set **nhis-initial.xslx** (raw file available in our [course repository](https://github.com/OpenSourceEconomics/ose-course-data-science/blob/master/problem-sets/potential-outcome-model/data/nhis-initial.xls)). Try to think of ways to answer the following questions: Are there more females or males? Are there more individuals who hold a degree or not?. Now try to relate individual characteristics to the hospitalization status. Are high or low earners/old or young people more often hospitalized?"
   ]
  },
  {
   "cell_type": "code",
   "execution_count": 4,
   "metadata": {},
   "outputs": [
    {
     "data": {
      "text/html": [
       "<div>\n",
       "<style scoped>\n",
       "    .dataframe tbody tr th:only-of-type {\n",
       "        vertical-align: middle;\n",
       "    }\n",
       "\n",
       "    .dataframe tbody tr th {\n",
       "        vertical-align: top;\n",
       "    }\n",
       "\n",
       "    .dataframe thead th {\n",
       "        text-align: right;\n",
       "    }\n",
       "</style>\n",
       "<table border=\"1\" class=\"dataframe\">\n",
       "  <thead>\n",
       "    <tr style=\"text-align: right;\">\n",
       "      <th></th>\n",
       "      <th>sex</th>\n",
       "      <th>age</th>\n",
       "      <th>education</th>\n",
       "      <th>hours</th>\n",
       "      <th>earnings</th>\n",
       "      <th>hospitalized</th>\n",
       "      <th>health</th>\n",
       "    </tr>\n",
       "    <tr>\n",
       "      <th>Individual</th>\n",
       "      <th></th>\n",
       "      <th></th>\n",
       "      <th></th>\n",
       "      <th></th>\n",
       "      <th></th>\n",
       "      <th></th>\n",
       "      <th></th>\n",
       "    </tr>\n",
       "  </thead>\n",
       "  <tbody>\n",
       "    <tr>\n",
       "      <th>0</th>\n",
       "      <td>male</td>\n",
       "      <td>49</td>\n",
       "      <td>bachelor</td>\n",
       "      <td>32</td>\n",
       "      <td>low</td>\n",
       "      <td>0</td>\n",
       "      <td>3</td>\n",
       "    </tr>\n",
       "    <tr>\n",
       "      <th>1</th>\n",
       "      <td>male</td>\n",
       "      <td>37</td>\n",
       "      <td>PhD</td>\n",
       "      <td>40</td>\n",
       "      <td>high</td>\n",
       "      <td>0</td>\n",
       "      <td>3</td>\n",
       "    </tr>\n",
       "    <tr>\n",
       "      <th>2</th>\n",
       "      <td>female</td>\n",
       "      <td>36</td>\n",
       "      <td>bachelor</td>\n",
       "      <td>40</td>\n",
       "      <td>high</td>\n",
       "      <td>0</td>\n",
       "      <td>4</td>\n",
       "    </tr>\n",
       "    <tr>\n",
       "      <th>3</th>\n",
       "      <td>male</td>\n",
       "      <td>29</td>\n",
       "      <td>bachelor</td>\n",
       "      <td>25</td>\n",
       "      <td>middle</td>\n",
       "      <td>0</td>\n",
       "      <td>4</td>\n",
       "    </tr>\n",
       "    <tr>\n",
       "      <th>4</th>\n",
       "      <td>female</td>\n",
       "      <td>34</td>\n",
       "      <td>bachelor</td>\n",
       "      <td>40</td>\n",
       "      <td>middle</td>\n",
       "      <td>0</td>\n",
       "      <td>5</td>\n",
       "    </tr>\n",
       "  </tbody>\n",
       "</table>\n",
       "</div>"
      ],
      "text/plain": [
       "               sex  age education  hours earnings  hospitalized  health\n",
       "Individual                                                             \n",
       "0             male   49  bachelor     32      low             0       3\n",
       "1             male   37       PhD     40     high             0       3\n",
       "2           female   36  bachelor     40     high             0       4\n",
       "3             male   29  bachelor     25   middle             0       4\n",
       "4           female   34  bachelor     40   middle             0       5"
      ]
     },
     "execution_count": 4,
     "metadata": {},
     "output_type": "execute_result"
    }
   ],
   "source": [
    "df = pd.read_excel(\"data/nhis-initial.xls\", index_col=0)\n",
    "df.index.set_names(\"Individual\", inplace=True)\n",
    "df.head()"
   ]
  },
  {
   "cell_type": "markdown",
   "metadata": {},
   "source": [
    "We will have to do so repeatedly, so let's streamline this process and set up a proper function."
   ]
  },
  {
   "cell_type": "code",
   "execution_count": 7,
   "metadata": {},
   "outputs": [],
   "source": [
    "def get_dataset(fname=\"initial\"):\n",
    "    df = pd.read_excel(f\"data/nhis-{fname}.xls\", index_col=0)\n",
    "    df.index.set_names(\"Individual\", inplace=True)\n",
    "    return df"
   ]
  },
  {
   "cell_type": "markdown",
   "metadata": {},
   "source": [
    "Let us get a basic feel for the data in front of us."
   ]
  },
  {
   "cell_type": "code",
   "execution_count": 12,
   "metadata": {},
   "outputs": [
    {
     "name": "stdout",
     "output_type": "stream",
     "text": [
      "\n",
      " Sex\n",
      "              count unique     top   freq\n",
      "hospitalized                             \n",
      "0             25320      2    male  13450\n",
      "1              1496      2  female    938\n",
      "\n",
      " Age\n",
      "                 count  mean   std   min   25%   50%   75%   max\n",
      "hospitalized                                                    \n",
      "0            25,320.00 43.45 13.87 13.00 32.00 43.00 54.00 85.00\n",
      "1             1,496.00 45.95 15.17 18.00 33.00 45.00 58.25 85.00\n",
      "\n",
      " Education\n",
      "              count unique       top   freq\n",
      "hospitalized                               \n",
      "0             25320      5  bachelor  14006\n",
      "1              1496      5  bachelor    845\n",
      "\n",
      " Hours\n",
      "                 count  mean   std  min   25%   50%   75%   max\n",
      "hospitalized                                                   \n",
      "0            25,320.00 40.60 13.49 1.00 38.00 40.00 45.00 99.00\n",
      "1             1,496.00 38.78 14.00 1.00 33.75 40.00 43.00 99.00\n",
      "\n",
      " Earnings\n",
      "              count unique  top   freq\n",
      "hospitalized                          \n",
      "0             25320      3  low  12930\n",
      "1              1496      3  low    852\n",
      "\n",
      " Hospitalized\n",
      "                 count  mean  std  min  25%  50%  75%  max\n",
      "hospitalized                                              \n",
      "0            25,320.00  0.00 0.00 0.00 0.00 0.00 0.00 0.00\n",
      "1             1,496.00  1.00 0.00 1.00 1.00 1.00 1.00 1.00\n",
      "\n",
      " Health\n",
      "                 count  mean  std  min  25%  50%  75%  max\n",
      "hospitalized                                              \n",
      "0            25,320.00  3.97 0.89 1.00 3.00 4.00 5.00 5.00\n",
      "1             1,496.00  3.59 1.05 1.00 3.00 4.00 4.00 5.00\n"
     ]
    }
   ],
   "source": [
    "for column in df.columns:\n",
    "    print(\"\\n\", column.capitalize())\n",
    "    print(df.groupby(\"hospitalized\")[column].describe())"
   ]
  },
  {
   "cell_type": "markdown",
   "metadata": {},
   "source": [
    "We want to study average age and working hours in more detail. What are their averages in our data?"
   ]
  },
  {
   "cell_type": "code",
   "execution_count": 35,
   "metadata": {},
   "outputs": [
    {
     "name": "stdout",
     "output_type": "stream",
     "text": [
      "Average age in the sample is 43.59\n"
     ]
    }
   ],
   "source": [
    "stat = df[\"age\"].mean()\n",
    "print(f\"Average age in the sample is {stat:.2f}\")"
   ]
  },
  {
   "cell_type": "code",
   "execution_count": 36,
   "metadata": {},
   "outputs": [
    {
     "name": "stdout",
     "output_type": "stream",
     "text": [
      "Average of working hours per week in the sample is 40\n"
     ]
    }
   ],
   "source": [
    "stat = df[\"hours\"].mean()\n",
    "print(f\"Average of working hours per week in the sample is {stat:.0f}\")"
   ]
  },
  {
   "cell_type": "code",
   "execution_count": 37,
   "metadata": {},
   "outputs": [
    {
     "data": {
      "image/png": "[encoded data removed]",
      "text/plain": [
       "<Figure size 432x288 with 1 Axes>"
      ]
     },
     "metadata": {
      "needs_background": "light"
     },
     "output_type": "display_data"
    },
    {
     "data": {
      "image/png": "[encoded data removed]",
      "text/plain": [
       "<Figure size 432x288 with 1 Axes>"
      ]
     },
     "metadata": {
      "needs_background": "light"
     },
     "output_type": "display_data"
    },
    {
     "data": {
      "image/png": "[encoded data removed]",
      "text/plain": [
       "<Figure size 432x288 with 1 Axes>"
      ]
     },
     "metadata": {
      "needs_background": "light"
     },
     "output_type": "display_data"
    },
    {
     "data": {
      "image/png": "[encoded data removed]",
      "text/plain": [
       "<Figure size 432x288 with 1 Axes>"
      ]
     },
     "metadata": {
      "needs_background": "light"
     },
     "output_type": "display_data"
    }
   ],
   "source": [
    "for column in [\"sex\", \"education\", \"earnings\", \"health\"]:\n",
    "\n",
    "    fig, ax = plt.subplots()\n",
    "\n",
    "    info = df[column].value_counts(normalize=True)\n",
    "    x, y = info.index, info.to_numpy()\n",
    "\n",
    "    ax.bar(x, y)\n",
    "\n",
    "    ax.set_xlabel(column.capitalize())\n",
    "\n",
    "    ax.set_ylim(None, 1)\n",
    "    ax.set_ylabel(\"Share\")"
   ]
  },
  {
   "cell_type": "markdown",
   "metadata": {},
   "source": [
    "Now try to relate individual characteristics to the hospitalization status. "
   ]
  },
  {
   "cell_type": "code",
   "execution_count": 47,
   "metadata": {},
   "outputs": [
    {
     "data": {
      "text/html": [
       "<div>\n",
       "<style scoped>\n",
       "    .dataframe tbody tr th:only-of-type {\n",
       "        vertical-align: middle;\n",
       "    }\n",
       "\n",
       "    .dataframe tbody tr th {\n",
       "        vertical-align: top;\n",
       "    }\n",
       "\n",
       "    .dataframe thead th {\n",
       "        text-align: right;\n",
       "    }\n",
       "</style>\n",
       "<table border=\"1\" class=\"dataframe\">\n",
       "  <thead>\n",
       "    <tr style=\"text-align: right;\">\n",
       "      <th></th>\n",
       "      <th>age</th>\n",
       "      <th>hours</th>\n",
       "    </tr>\n",
       "    <tr>\n",
       "      <th>hospitalized</th>\n",
       "      <th></th>\n",
       "      <th></th>\n",
       "    </tr>\n",
       "  </thead>\n",
       "  <tbody>\n",
       "    <tr>\n",
       "      <th>0</th>\n",
       "      <td>43.45</td>\n",
       "      <td>40.60</td>\n",
       "    </tr>\n",
       "    <tr>\n",
       "      <th>1</th>\n",
       "      <td>45.95</td>\n",
       "      <td>38.78</td>\n",
       "    </tr>\n",
       "  </tbody>\n",
       "</table>\n",
       "</div>"
      ],
      "text/plain": [
       "               age  hours\n",
       "hospitalized             \n",
       "0            43.45  40.60\n",
       "1            45.95  38.78"
      ]
     },
     "execution_count": 47,
     "metadata": {},
     "output_type": "execute_result"
    }
   ],
   "source": [
    "df.groupby(\"hospitalized\")[[\"age\", \"hours\"]].mean()"
   ]
  },
  {
   "cell_type": "markdown",
   "metadata": {},
   "source": [
    "Let's practice some plotting and set up a grouped bar chart to explore differences in the observables by hospitalization status. Some additional explanations are available as part of the `matplotlib` gallery [here](https://matplotlib.org/stable/gallery/lines_bars_and_markers/barchart.html)."
   ]
  },
  {
   "cell_type": "code",
   "execution_count": 98,
   "metadata": {},
   "outputs": [
    {
     "data": {
      "image/png": "[encoded data removed]",
      "text/plain": [
       "<Figure size 432x288 with 1 Axes>"
      ]
     },
     "metadata": {
      "needs_background": "light"
     },
     "output_type": "display_data"
    },
    {
     "data": {
      "image/png": "[encoded data removed]",
      "text/plain": [
       "<Figure size 432x288 with 1 Axes>"
      ]
     },
     "metadata": {
      "needs_background": "light"
     },
     "output_type": "display_data"
    },
    {
     "data": {
      "image/png": "[encoded data removed]",
      "text/plain": [
       "<Figure size 432x288 with 1 Axes>"
      ]
     },
     "metadata": {
      "needs_background": "light"
     },
     "output_type": "display_data"
    }
   ],
   "source": [
    "width = 0.35\n",
    "for column in [\"sex\", \"education\", \"earnings\"]:\n",
    "\n",
    "    fig, ax = plt.subplots()\n",
    "\n",
    "    rslt = df.groupby(\"hospitalized\")[column].value_counts(normalize=True)\n",
    "    y_out, y_in = rslt[0].to_numpy(), rslt[1].to_numpy()\n",
    "    labels = rslt.index.get_level_values(1).unique()\n",
    "\n",
    "    x = np.array(range(len(y_out)))\n",
    "\n",
    "    ax.bar(x - width / 2, y_out, width, label=\"Out\")\n",
    "    ax.bar(x + width / 2, y_in, width, label=\"In\")\n",
    "\n",
    "    ax.set_xticks(x)\n",
    "    ax.set_xticklabels(labels)\n",
    "\n",
    "    ax.legend()\n",
    "    ax.set_title(column.capitalize())\n",
    "    ax.set_ylabel(\"Share\")"
   ]
  },
  {
   "cell_type": "markdown",
   "metadata": {},
   "source": [
    "## Task A.2\n",
    "\n",
    "Compute the average health status of hospitalized and non-hospitalized individuals. Who is healthier on average? What could be a reason for this difference?"
   ]
  },
  {
   "cell_type": "code",
   "execution_count": 99,
   "metadata": {},
   "outputs": [
    {
     "data": {
      "text/html": [
       "<div>\n",
       "<style scoped>\n",
       "    .dataframe tbody tr th:only-of-type {\n",
       "        vertical-align: middle;\n",
       "    }\n",
       "\n",
       "    .dataframe tbody tr th {\n",
       "        vertical-align: top;\n",
       "    }\n",
       "\n",
       "    .dataframe thead th {\n",
       "        text-align: right;\n",
       "    }\n",
       "</style>\n",
       "<table border=\"1\" class=\"dataframe\">\n",
       "  <thead>\n",
       "    <tr style=\"text-align: right;\">\n",
       "      <th></th>\n",
       "      <th>health</th>\n",
       "    </tr>\n",
       "    <tr>\n",
       "      <th>hospitalized</th>\n",
       "      <th></th>\n",
       "    </tr>\n",
       "  </thead>\n",
       "  <tbody>\n",
       "    <tr>\n",
       "      <th>0</th>\n",
       "      <td>3.97</td>\n",
       "    </tr>\n",
       "    <tr>\n",
       "      <th>1</th>\n",
       "      <td>3.59</td>\n",
       "    </tr>\n",
       "  </tbody>\n",
       "</table>\n",
       "</div>"
      ],
      "text/plain": [
       "              health\n",
       "hospitalized        \n",
       "0               3.97\n",
       "1               3.59"
      ]
     },
     "execution_count": 99,
     "metadata": {},
     "output_type": "execute_result"
    }
   ],
   "source": [
    "df.groupby(\"hospitalized\")[\"health\"].mean().to_frame()"
   ]
  },
  {
   "cell_type": "markdown",
   "metadata": {},
   "source": [
    "## Task A.3\n",
    "\n",
    "Adjust the data set for the POM framework, with health status as the outcome and hospitalization as the treatment status."
   ]
  },
  {
   "cell_type": "code",
   "execution_count": 100,
   "metadata": {},
   "outputs": [
    {
     "data": {
      "text/html": [
       "<div>\n",
       "<style scoped>\n",
       "    .dataframe tbody tr th:only-of-type {\n",
       "        vertical-align: middle;\n",
       "    }\n",
       "\n",
       "    .dataframe tbody tr th {\n",
       "        vertical-align: top;\n",
       "    }\n",
       "\n",
       "    .dataframe thead th {\n",
       "        text-align: right;\n",
       "    }\n",
       "</style>\n",
       "<table border=\"1\" class=\"dataframe\">\n",
       "  <thead>\n",
       "    <tr style=\"text-align: right;\">\n",
       "      <th></th>\n",
       "      <th>sex</th>\n",
       "      <th>age</th>\n",
       "      <th>education</th>\n",
       "      <th>hours</th>\n",
       "      <th>earnings</th>\n",
       "      <th>D</th>\n",
       "      <th>Y</th>\n",
       "      <th>Y_1</th>\n",
       "      <th>Y_0</th>\n",
       "    </tr>\n",
       "    <tr>\n",
       "      <th>Individual</th>\n",
       "      <th></th>\n",
       "      <th></th>\n",
       "      <th></th>\n",
       "      <th></th>\n",
       "      <th></th>\n",
       "      <th></th>\n",
       "      <th></th>\n",
       "      <th></th>\n",
       "      <th></th>\n",
       "    </tr>\n",
       "  </thead>\n",
       "  <tbody>\n",
       "    <tr>\n",
       "      <th>0</th>\n",
       "      <td>male</td>\n",
       "      <td>49</td>\n",
       "      <td>bachelor</td>\n",
       "      <td>32</td>\n",
       "      <td>low</td>\n",
       "      <td>0</td>\n",
       "      <td>3</td>\n",
       "      <td>NaN</td>\n",
       "      <td>3.00</td>\n",
       "    </tr>\n",
       "    <tr>\n",
       "      <th>1</th>\n",
       "      <td>male</td>\n",
       "      <td>37</td>\n",
       "      <td>PhD</td>\n",
       "      <td>40</td>\n",
       "      <td>high</td>\n",
       "      <td>0</td>\n",
       "      <td>3</td>\n",
       "      <td>NaN</td>\n",
       "      <td>3.00</td>\n",
       "    </tr>\n",
       "    <tr>\n",
       "      <th>2</th>\n",
       "      <td>female</td>\n",
       "      <td>36</td>\n",
       "      <td>bachelor</td>\n",
       "      <td>40</td>\n",
       "      <td>high</td>\n",
       "      <td>0</td>\n",
       "      <td>4</td>\n",
       "      <td>NaN</td>\n",
       "      <td>4.00</td>\n",
       "    </tr>\n",
       "    <tr>\n",
       "      <th>3</th>\n",
       "      <td>male</td>\n",
       "      <td>29</td>\n",
       "      <td>bachelor</td>\n",
       "      <td>25</td>\n",
       "      <td>middle</td>\n",
       "      <td>0</td>\n",
       "      <td>4</td>\n",
       "      <td>NaN</td>\n",
       "      <td>4.00</td>\n",
       "    </tr>\n",
       "    <tr>\n",
       "      <th>4</th>\n",
       "      <td>female</td>\n",
       "      <td>34</td>\n",
       "      <td>bachelor</td>\n",
       "      <td>40</td>\n",
       "      <td>middle</td>\n",
       "      <td>0</td>\n",
       "      <td>5</td>\n",
       "      <td>NaN</td>\n",
       "      <td>5.00</td>\n",
       "    </tr>\n",
       "  </tbody>\n",
       "</table>\n",
       "</div>"
      ],
      "text/plain": [
       "               sex  age education  hours earnings  D  Y  Y_1  Y_0\n",
       "Individual                                                       \n",
       "0             male   49  bachelor     32      low  0  3  NaN 3.00\n",
       "1             male   37       PhD     40     high  0  3  NaN 3.00\n",
       "2           female   36  bachelor     40     high  0  4  NaN 4.00\n",
       "3             male   29  bachelor     25   middle  0  4  NaN 4.00\n",
       "4           female   34  bachelor     40   middle  0  5  NaN 5.00"
      ]
     },
     "execution_count": 100,
     "metadata": {},
     "output_type": "execute_result"
    }
   ],
   "source": [
    "df = get_dataset()\n",
    "\n",
    "df.rename(columns={\"health\": \"Y\", \"hospitalized\": \"D\"}, inplace=True)\n",
    "\n",
    "df[\"Y_1\"] = np.where(df[\"D\"] == 1, df[\"Y\"], np.nan)\n",
    "df[\"Y_0\"] = np.where(df[\"D\"] == 0, df[\"Y\"], np.nan)\n",
    "\n",
    "df.head()"
   ]
  },
  {
   "cell_type": "markdown",
   "metadata": {},
   "source": [
    "## Task A.4\n",
    "\n",
    "Compute the naive estimate for the average treatment effect (ATE)"
   ]
  },
  {
   "cell_type": "code",
   "execution_count": 101,
   "metadata": {},
   "outputs": [
    {
     "name": "stdout",
     "output_type": "stream",
     "text": [
      "Our naive estimate is -0.4\n"
     ]
    }
   ],
   "source": [
    "stat = df[\"Y_1\"].mean() - df[\"Y_0\"].mean()\n",
    "print(f\"Our naive estimate is {stat:.1f}\")"
   ]
  },
  {
   "cell_type": "markdown",
   "metadata": {},
   "source": [
    "## Task B.1\n",
    "\n",
    "As we’ve seen in the lecture, in reality, we can only ever observe one counterfactual; however, when simulating data, we can bypass this problem. The (simulated) data set nhis-simulated.xslx (raw file available in our [course repository](https://github.com/OpenSourceEconomics/ose-course-data-science/blob/master/problem-sets/potential-outcome-model/data/nhis-simulated.xls)) contains counterfactual outcomes, i.e., outcomes under control for individuals assigned to the treatment group and vice versa. Derive and compute the average outcomes in the two observable and two unobservables states. Design them similar\n",
    "to Table 2.3 in Morgan & Winship (2014)."
   ]
  },
  {
   "cell_type": "code",
   "execution_count": 102,
   "metadata": {},
   "outputs": [],
   "source": [
    "df = get_dataset(\"simulated\")"
   ]
  },
  {
   "cell_type": "code",
   "execution_count": 103,
   "metadata": {},
   "outputs": [
    {
     "data": {
      "text/html": [
       "<div>\n",
       "<style scoped>\n",
       "    .dataframe tbody tr th:only-of-type {\n",
       "        vertical-align: middle;\n",
       "    }\n",
       "\n",
       "    .dataframe tbody tr th {\n",
       "        vertical-align: top;\n",
       "    }\n",
       "\n",
       "    .dataframe thead th {\n",
       "        text-align: right;\n",
       "    }\n",
       "</style>\n",
       "<table border=\"1\" class=\"dataframe\">\n",
       "  <thead>\n",
       "    <tr style=\"text-align: right;\">\n",
       "      <th></th>\n",
       "      <th>E[Y_1|D]</th>\n",
       "      <th>E[Y_0|D]</th>\n",
       "    </tr>\n",
       "  </thead>\n",
       "  <tbody>\n",
       "    <tr>\n",
       "      <th>Untreated</th>\n",
       "      <td>4.87</td>\n",
       "      <td>3.97</td>\n",
       "    </tr>\n",
       "    <tr>\n",
       "      <th>Treated</th>\n",
       "      <td>3.59</td>\n",
       "      <td>3.90</td>\n",
       "    </tr>\n",
       "  </tbody>\n",
       "</table>\n",
       "</div>"
      ],
      "text/plain": [
       "           E[Y_1|D]  E[Y_0|D]\n",
       "Untreated      4.87      3.97\n",
       "Treated        3.59      3.90"
      ]
     },
     "execution_count": 103,
     "metadata": {},
     "output_type": "execute_result"
    }
   ],
   "source": [
    "rslt = df.groupby(\"D\")[[\"Y_1\", \"Y_0\"]].mean()\n",
    "\n",
    "rslt.columns = [\"E[Y_1|D]\", \"E[Y_0|D]\"]\n",
    "rslt.index = [\"Untreated\", \"Treated\"]\n",
    "\n",
    "rslt"
   ]
  },
  {
   "cell_type": "markdown",
   "metadata": {},
   "source": [
    "## Task B.2 \n",
    "\n",
    "From here on we assume that 5% of the population take the treatment. Derive and explain Equation (2.10) from Morgan & Winship (2014) for the naive estimator as a decomposition of true ATE, baseline bias, and differential treatment effect bias."
   ]
  },
  {
   "cell_type": "markdown",
   "metadata": {},
   "source": [
    "This derivation is straightforward."
   ]
  },
  {
   "cell_type": "markdown",
   "metadata": {},
   "source": [
    "\n",
    "\n",
    "## Task B.3\n",
    "\n",
    "Compute the naive estimate and true value of the ATE for the simulated data. Is the naive estimator upwardly or downwardly biased? Calculate the baseline bias and differential treatment effect bias. How could we interpret these biases in our framework of health status of hospitalized and non-hospitalized respondents?"
   ]
  },
  {
   "cell_type": "code",
   "execution_count": 104,
   "metadata": {},
   "outputs": [
    {
     "name": "stdout",
     "output_type": "stream",
     "text": [
      "naive: -0.38, base: -0.07, diff: -1.14, true: 0.84\n"
     ]
    }
   ],
   "source": [
    "pi = 0.05\n",
    "\n",
    "# naive estimate\n",
    "naive = rslt.loc[\"Treated\", \"E[Y_1|D]\"] - rslt.loc[\"Untreated\", \"E[Y_0|D]\"]\n",
    "\n",
    "# baseline bias\n",
    "base = rslt.loc[\"Treated\", \"E[Y_0|D]\"] - rslt.loc[\"Untreated\", \"E[Y_0|D]\"]\n",
    "\n",
    "# differential effect\n",
    "diff = 0\n",
    "diff += rslt.loc[\"Treated\", \"E[Y_1|D]\"] - rslt.loc[\"Treated\", \"E[Y_0|D]\"]\n",
    "diff -= rslt.loc[\"Untreated\", \"E[Y_1|D]\"] - rslt.loc[\"Untreated\", \"E[Y_0|D]\"]\n",
    "diff *= 1 - pi\n",
    "\n",
    "# true average treatment effect\n",
    "true = 0\n",
    "true += pi * (rslt.loc[\"Treated\", \"E[Y_1|D]\"] - rslt.loc[\"Treated\", \"E[Y_0|D]\"])\n",
    "true += (1 - pi) * (\n",
    "    rslt.loc[\"Untreated\", \"E[Y_1|D]\"] - rslt.loc[\"Untreated\", \"E[Y_0|D]\"]\n",
    ")\n",
    "print(f\"naive: {naive:.2f}, base: {base:.2f}, diff: {diff:.2f}, true: {true:.2f}\")\n",
    "\n",
    "# We can also test the relationships just to be sure.\n",
    "np.testing.assert_almost_equal(true, naive - (base + diff), decimal=10)"
   ]
  },
  {
   "cell_type": "markdown",
   "metadata": {},
   "source": [
    "## Task B.4 \n",
    "\n",
    "Under which assumptions does the naive estimator provide the ATE?"
   ]
  },
  {
   "cell_type": "markdown",
   "metadata": {},
   "source": [
    "We need the *stable unit treatment value assumption* and independence between potential outcomes and the treatment."
   ]
  },
  {
   "cell_type": "markdown",
   "metadata": {},
   "source": [
    "## References\n",
    "\n",
    "* Winship, C., and Morgan, S. L. (2014). [*Counterfactuals and causal inference: Methods and principles for social research*](https://www.cambridge.org/de/academic/subjects/sociology/sociology-general-interest/counterfactuals-and-causal-inference-methods-and-principles-social-research-2nd-edition?format=PB). Cambridge, England: Cambridge University Press.\n",
    "\n",
    "* Angrist, J. D., and Pischke, J. (2009). [*Mostly harmless econometrics: An empiricists companion*](https://press.princeton.edu/titles/8769.html). Princeton, NJ: Princeton University Press.\n",
    "\n",
    "* [National Health Interview Survey.](https://www.cdc.gov/nchs/nhis/index.htm) (2018). National Center for Health Statistics."
   ]
  }
 ],
 "metadata": {
  "kernelspec": {
   "display_name": "Python 3",
   "language": "python",
   "name": "python3"
  },
  "language_info": {
   "codemirror_mode": {
    "name": "ipython",
    "version": 3
   },
   "file_extension": ".py",
   "mimetype": "text/x-python",
   "name": "python",
   "nbconvert_exporter": "python",
   "pygments_lexer": "ipython3",
   "version": "3.7.10"
  }
 },
 "nbformat": 4,
 "nbformat_minor": 4
}
