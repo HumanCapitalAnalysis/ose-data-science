{
 "cells": [
  {
   "cell_type": "code",
   "execution_count": 37,
   "metadata": {},
   "outputs": [],
   "source": [
    "from sklearn.neighbors import NearestNeighbors\n",
    "import statsmodels.formula.api as smf\n",
    "from scipy.stats import ttest_ind\n",
    "import matplotlib.pyplot as plt\n",
    "import seaborn as sns\n",
    "import pandas as pd\n",
    "import numpy as np\n",
    "\n",
    "pd.options.display.float_format = \"{:,.2f}\".format"
   ]
  },
  {
   "cell_type": "markdown",
   "metadata": {},
   "source": [
    "# Regression and matching estimators in causal effects"
   ]
  },
  {
   "cell_type": "markdown",
   "metadata": {},
   "source": [
    "In this problem set we are going to compare the consistency of regression and matching estimators of causal effects based on Dehejia & Wahba (1999). For that we employ the experimental study from LaLonde (1986), which provides an opportunity to estimate true treatment effects. We then use these results to evaluate the performance of (treatment effect) estimators one can usuallly obtain in observational studies.\n",
    "\n",
    "LaLonde (1986) implements the data from the National Supported Work program (NSW) -- temporary employment program designed to help disadvantaged workers lacking basic job skills move into the labor market by giving them work experience and counseling in sheltered environment. Unlike other federally sponsored employment programs, the NSW\n",
    "program assigned qualiffed applications randomly. Those assigned to the treatment group received all the bene\f",
    "ts of the NSW program, while those assigned to the control group were left to fend for themselves.\n",
    "\n",
    "To produce the observational study, we select the sample from the Current Population Survey (CPS) as the comparison group and merge it with the treatment group. We do this to obtain a data set which resembles the data which is commonly used in scientific practice. The two data sets are explained below:*\n",
    "\n",
    "- **nsw_dehejia.csv** is field-experiment data from the NSW. It contains variables as education, age, ethnicity, marital status, preintervention (1975) and postintervention (1978) earnings of the eligible male applicants. Dehejia & Wahba (1999) also transform the LaLonde (1986) data set to have observations on preintervention 1974 earnings; motivation is explained in their paper.\n",
    "\n",
    "- **cps.csv** is a non-experimental sample from the CPS which selects all males under age 55 and contains the same range of variables."
   ]
  },
  {
   "cell_type": "markdown",
   "metadata": {},
   "source": [
    "## Task A"
   ]
  },
  {
   "cell_type": "markdown",
   "metadata": {},
   "source": [
    "*Create the table with the sample means of characteristics by age, education, preintervention earnings, etc. for treated and control groups of NSW sample (you can use the Table 1 from  Dehejia and Wahba (1999) as a benchmark). Is the distribution of preintervention variables similar across the treatment and control groups? Check the differences on significance. Add to the table the CPS sample means. Is the comparison group different from the treatment group in terms of age, marital status, ethnicity, and preintervention earnings?*"
   ]
  },
  {
   "cell_type": "code",
   "execution_count": 87,
   "metadata": {},
   "outputs": [
    {
     "data": {
      "text/html": [
       "<div>\n",
       "<style scoped>\n",
       "    .dataframe tbody tr th:only-of-type {\n",
       "        vertical-align: middle;\n",
       "    }\n",
       "\n",
       "    .dataframe tbody tr th {\n",
       "        vertical-align: top;\n",
       "    }\n",
       "\n",
       "    .dataframe thead th {\n",
       "        text-align: right;\n",
       "    }\n",
       "</style>\n",
       "<table border=\"1\" class=\"dataframe\">\n",
       "  <thead>\n",
       "    <tr style=\"text-align: right;\">\n",
       "      <th></th>\n",
       "      <th>treat</th>\n",
       "      <th>age</th>\n",
       "      <th>ed</th>\n",
       "      <th>black</th>\n",
       "      <th>hisp</th>\n",
       "      <th>married</th>\n",
       "      <th>nodeg</th>\n",
       "      <th>re74</th>\n",
       "      <th>re75</th>\n",
       "      <th>re78</th>\n",
       "      <th>age2</th>\n",
       "    </tr>\n",
       "    <tr>\n",
       "      <th>individual</th>\n",
       "      <th></th>\n",
       "      <th></th>\n",
       "      <th></th>\n",
       "      <th></th>\n",
       "      <th></th>\n",
       "      <th></th>\n",
       "      <th></th>\n",
       "      <th></th>\n",
       "      <th></th>\n",
       "      <th></th>\n",
       "      <th></th>\n",
       "    </tr>\n",
       "  </thead>\n",
       "  <tbody>\n",
       "    <tr>\n",
       "      <th>0</th>\n",
       "      <td>1</td>\n",
       "      <td>37</td>\n",
       "      <td>11</td>\n",
       "      <td>1</td>\n",
       "      <td>0</td>\n",
       "      <td>1</td>\n",
       "      <td>1</td>\n",
       "      <td>0.00</td>\n",
       "      <td>0.00</td>\n",
       "      <td>9,930.05</td>\n",
       "      <td>1369</td>\n",
       "    </tr>\n",
       "    <tr>\n",
       "      <th>1</th>\n",
       "      <td>1</td>\n",
       "      <td>22</td>\n",
       "      <td>9</td>\n",
       "      <td>0</td>\n",
       "      <td>1</td>\n",
       "      <td>0</td>\n",
       "      <td>1</td>\n",
       "      <td>0.00</td>\n",
       "      <td>0.00</td>\n",
       "      <td>3,595.89</td>\n",
       "      <td>484</td>\n",
       "    </tr>\n",
       "    <tr>\n",
       "      <th>2</th>\n",
       "      <td>1</td>\n",
       "      <td>30</td>\n",
       "      <td>12</td>\n",
       "      <td>1</td>\n",
       "      <td>0</td>\n",
       "      <td>0</td>\n",
       "      <td>0</td>\n",
       "      <td>0.00</td>\n",
       "      <td>0.00</td>\n",
       "      <td>24,909.45</td>\n",
       "      <td>900</td>\n",
       "    </tr>\n",
       "    <tr>\n",
       "      <th>3</th>\n",
       "      <td>1</td>\n",
       "      <td>27</td>\n",
       "      <td>11</td>\n",
       "      <td>1</td>\n",
       "      <td>0</td>\n",
       "      <td>0</td>\n",
       "      <td>1</td>\n",
       "      <td>0.00</td>\n",
       "      <td>0.00</td>\n",
       "      <td>7,506.15</td>\n",
       "      <td>729</td>\n",
       "    </tr>\n",
       "    <tr>\n",
       "      <th>4</th>\n",
       "      <td>1</td>\n",
       "      <td>33</td>\n",
       "      <td>8</td>\n",
       "      <td>1</td>\n",
       "      <td>0</td>\n",
       "      <td>0</td>\n",
       "      <td>1</td>\n",
       "      <td>0.00</td>\n",
       "      <td>0.00</td>\n",
       "      <td>289.79</td>\n",
       "      <td>1089</td>\n",
       "    </tr>\n",
       "  </tbody>\n",
       "</table>\n",
       "</div>"
      ],
      "text/plain": [
       "            treat  age  ed  black  hisp  married  nodeg  re74  re75      re78  \\\n",
       "individual                                                                      \n",
       "0               1   37  11      1     0        1      1  0.00  0.00  9,930.05   \n",
       "1               1   22   9      0     1        0      1  0.00  0.00  3,595.89   \n",
       "2               1   30  12      1     0        0      0  0.00  0.00 24,909.45   \n",
       "3               1   27  11      1     0        0      1  0.00  0.00  7,506.15   \n",
       "4               1   33   8      1     0        0      1  0.00  0.00    289.79   \n",
       "\n",
       "            age2  \n",
       "individual        \n",
       "0           1369  \n",
       "1            484  \n",
       "2            900  \n",
       "3            729  \n",
       "4           1089  "
      ]
     },
     "execution_count": 87,
     "metadata": {},
     "output_type": "execute_result"
    }
   ],
   "source": [
    "demographics = [\"age\", \"ed\", \"black\", \"hisp\", \"married\", \"nodeg\", \"age2\"]\n",
    "\n",
    "dtypes = dict()\n",
    "for column in [\"treat\"] + demographics:\n",
    "    dtypes[column] = int\n",
    "\n",
    "df_nsw = pd.read_csv(\"data/nsw_dehejia.csv\", dtype=dtypes)\n",
    "df_nsw.index.name = \"individual\"\n",
    "df_nsw.head()"
   ]
  },
  {
   "cell_type": "markdown",
   "metadata": {},
   "source": [
    "How does a summary of the data look like?"
   ]
  },
  {
   "cell_type": "code",
   "execution_count": 88,
   "metadata": {},
   "outputs": [
    {
     "data": {
      "text/html": [
       "<div>\n",
       "<style scoped>\n",
       "    .dataframe tbody tr th:only-of-type {\n",
       "        vertical-align: middle;\n",
       "    }\n",
       "\n",
       "    .dataframe tbody tr th {\n",
       "        vertical-align: top;\n",
       "    }\n",
       "\n",
       "    .dataframe thead th {\n",
       "        text-align: right;\n",
       "    }\n",
       "</style>\n",
       "<table border=\"1\" class=\"dataframe\">\n",
       "  <thead>\n",
       "    <tr style=\"text-align: right;\">\n",
       "      <th></th>\n",
       "      <th>treat</th>\n",
       "      <th>age</th>\n",
       "      <th>ed</th>\n",
       "      <th>black</th>\n",
       "      <th>hisp</th>\n",
       "      <th>married</th>\n",
       "      <th>nodeg</th>\n",
       "      <th>re74</th>\n",
       "      <th>re75</th>\n",
       "      <th>re78</th>\n",
       "      <th>age2</th>\n",
       "    </tr>\n",
       "  </thead>\n",
       "  <tbody>\n",
       "    <tr>\n",
       "      <th>count</th>\n",
       "      <td>445.00</td>\n",
       "      <td>445.00</td>\n",
       "      <td>445.00</td>\n",
       "      <td>445.00</td>\n",
       "      <td>445.00</td>\n",
       "      <td>445.00</td>\n",
       "      <td>445.00</td>\n",
       "      <td>445.00</td>\n",
       "      <td>445.00</td>\n",
       "      <td>445.00</td>\n",
       "      <td>445.00</td>\n",
       "    </tr>\n",
       "    <tr>\n",
       "      <th>mean</th>\n",
       "      <td>0.42</td>\n",
       "      <td>25.37</td>\n",
       "      <td>10.20</td>\n",
       "      <td>0.83</td>\n",
       "      <td>0.09</td>\n",
       "      <td>0.17</td>\n",
       "      <td>0.78</td>\n",
       "      <td>2,102.27</td>\n",
       "      <td>1,377.14</td>\n",
       "      <td>5,300.76</td>\n",
       "      <td>693.98</td>\n",
       "    </tr>\n",
       "    <tr>\n",
       "      <th>std</th>\n",
       "      <td>0.49</td>\n",
       "      <td>7.10</td>\n",
       "      <td>1.79</td>\n",
       "      <td>0.37</td>\n",
       "      <td>0.28</td>\n",
       "      <td>0.37</td>\n",
       "      <td>0.41</td>\n",
       "      <td>5,363.58</td>\n",
       "      <td>3,150.96</td>\n",
       "      <td>6,631.49</td>\n",
       "      <td>429.78</td>\n",
       "    </tr>\n",
       "    <tr>\n",
       "      <th>min</th>\n",
       "      <td>0.00</td>\n",
       "      <td>17.00</td>\n",
       "      <td>3.00</td>\n",
       "      <td>0.00</td>\n",
       "      <td>0.00</td>\n",
       "      <td>0.00</td>\n",
       "      <td>0.00</td>\n",
       "      <td>0.00</td>\n",
       "      <td>0.00</td>\n",
       "      <td>0.00</td>\n",
       "      <td>289.00</td>\n",
       "    </tr>\n",
       "    <tr>\n",
       "      <th>25%</th>\n",
       "      <td>0.00</td>\n",
       "      <td>20.00</td>\n",
       "      <td>9.00</td>\n",
       "      <td>1.00</td>\n",
       "      <td>0.00</td>\n",
       "      <td>0.00</td>\n",
       "      <td>1.00</td>\n",
       "      <td>0.00</td>\n",
       "      <td>0.00</td>\n",
       "      <td>0.00</td>\n",
       "      <td>400.00</td>\n",
       "    </tr>\n",
       "    <tr>\n",
       "      <th>50%</th>\n",
       "      <td>0.00</td>\n",
       "      <td>24.00</td>\n",
       "      <td>10.00</td>\n",
       "      <td>1.00</td>\n",
       "      <td>0.00</td>\n",
       "      <td>0.00</td>\n",
       "      <td>1.00</td>\n",
       "      <td>0.00</td>\n",
       "      <td>0.00</td>\n",
       "      <td>3,701.81</td>\n",
       "      <td>576.00</td>\n",
       "    </tr>\n",
       "    <tr>\n",
       "      <th>75%</th>\n",
       "      <td>1.00</td>\n",
       "      <td>28.00</td>\n",
       "      <td>11.00</td>\n",
       "      <td>1.00</td>\n",
       "      <td>0.00</td>\n",
       "      <td>0.00</td>\n",
       "      <td>1.00</td>\n",
       "      <td>824.39</td>\n",
       "      <td>1,220.84</td>\n",
       "      <td>8,124.72</td>\n",
       "      <td>784.00</td>\n",
       "    </tr>\n",
       "    <tr>\n",
       "      <th>max</th>\n",
       "      <td>1.00</td>\n",
       "      <td>55.00</td>\n",
       "      <td>16.00</td>\n",
       "      <td>1.00</td>\n",
       "      <td>1.00</td>\n",
       "      <td>1.00</td>\n",
       "      <td>1.00</td>\n",
       "      <td>39,570.68</td>\n",
       "      <td>25,142.24</td>\n",
       "      <td>60,307.93</td>\n",
       "      <td>3,025.00</td>\n",
       "    </tr>\n",
       "  </tbody>\n",
       "</table>\n",
       "</div>"
      ],
      "text/plain": [
       "       treat    age     ed  black   hisp  married  nodeg      re74      re75  \\\n",
       "count 445.00 445.00 445.00 445.00 445.00   445.00 445.00    445.00    445.00   \n",
       "mean    0.42  25.37  10.20   0.83   0.09     0.17   0.78  2,102.27  1,377.14   \n",
       "std     0.49   7.10   1.79   0.37   0.28     0.37   0.41  5,363.58  3,150.96   \n",
       "min     0.00  17.00   3.00   0.00   0.00     0.00   0.00      0.00      0.00   \n",
       "25%     0.00  20.00   9.00   1.00   0.00     0.00   1.00      0.00      0.00   \n",
       "50%     0.00  24.00  10.00   1.00   0.00     0.00   1.00      0.00      0.00   \n",
       "75%     1.00  28.00  11.00   1.00   0.00     0.00   1.00    824.39  1,220.84   \n",
       "max     1.00  55.00  16.00   1.00   1.00     1.00   1.00 39,570.68 25,142.24   \n",
       "\n",
       "           re78     age2  \n",
       "count    445.00   445.00  \n",
       "mean   5,300.76   693.98  \n",
       "std    6,631.49   429.78  \n",
       "min        0.00   289.00  \n",
       "25%        0.00   400.00  \n",
       "50%    3,701.81   576.00  \n",
       "75%    8,124.72   784.00  \n",
       "max   60,307.93 3,025.00  "
      ]
     },
     "execution_count": 88,
     "metadata": {},
     "output_type": "execute_result"
    }
   ],
   "source": [
    "df_nsw.describe()"
   ]
  },
  {
   "cell_type": "markdown",
   "metadata": {},
   "source": [
    "Let's look at the mean differences by treatment status."
   ]
  },
  {
   "cell_type": "code",
   "execution_count": 68,
   "metadata": {},
   "outputs": [
    {
     "data": {
      "text/html": [
       "<div>\n",
       "<style scoped>\n",
       "    .dataframe tbody tr th:only-of-type {\n",
       "        vertical-align: middle;\n",
       "    }\n",
       "\n",
       "    .dataframe tbody tr th {\n",
       "        vertical-align: top;\n",
       "    }\n",
       "\n",
       "    .dataframe thead th {\n",
       "        text-align: right;\n",
       "    }\n",
       "</style>\n",
       "<table border=\"1\" class=\"dataframe\">\n",
       "  <thead>\n",
       "    <tr style=\"text-align: right;\">\n",
       "      <th></th>\n",
       "      <th>age</th>\n",
       "      <th>ed</th>\n",
       "      <th>black</th>\n",
       "      <th>hisp</th>\n",
       "      <th>married</th>\n",
       "      <th>nodeg</th>\n",
       "      <th>re74</th>\n",
       "      <th>re75</th>\n",
       "      <th>re78</th>\n",
       "      <th>age2</th>\n",
       "    </tr>\n",
       "    <tr>\n",
       "      <th>treat</th>\n",
       "      <th></th>\n",
       "      <th></th>\n",
       "      <th></th>\n",
       "      <th></th>\n",
       "      <th></th>\n",
       "      <th></th>\n",
       "      <th></th>\n",
       "      <th></th>\n",
       "      <th></th>\n",
       "      <th></th>\n",
       "    </tr>\n",
       "  </thead>\n",
       "  <tbody>\n",
       "    <tr>\n",
       "      <th>0</th>\n",
       "      <td>25.05</td>\n",
       "      <td>10.09</td>\n",
       "      <td>0.83</td>\n",
       "      <td>0.11</td>\n",
       "      <td>0.15</td>\n",
       "      <td>0.83</td>\n",
       "      <td>2,107.03</td>\n",
       "      <td>1,266.91</td>\n",
       "      <td>4,554.80</td>\n",
       "      <td>677.32</td>\n",
       "    </tr>\n",
       "    <tr>\n",
       "      <th>1</th>\n",
       "      <td>25.82</td>\n",
       "      <td>10.35</td>\n",
       "      <td>0.84</td>\n",
       "      <td>0.06</td>\n",
       "      <td>0.19</td>\n",
       "      <td>0.71</td>\n",
       "      <td>2,095.57</td>\n",
       "      <td>1,532.06</td>\n",
       "      <td>6,349.14</td>\n",
       "      <td>717.39</td>\n",
       "    </tr>\n",
       "  </tbody>\n",
       "</table>\n",
       "</div>"
      ],
      "text/plain": [
       "        age    ed  black  hisp  married  nodeg     re74     re75     re78  \\\n",
       "treat                                                                       \n",
       "0     25.05 10.09   0.83  0.11     0.15   0.83 2,107.03 1,266.91 4,554.80   \n",
       "1     25.82 10.35   0.84  0.06     0.19   0.71 2,095.57 1,532.06 6,349.14   \n",
       "\n",
       "        age2  \n",
       "treat         \n",
       "0     677.32  \n",
       "1     717.39  "
      ]
     },
     "execution_count": 68,
     "metadata": {},
     "output_type": "execute_result"
    }
   ],
   "source": [
    "df_nsw.groupby(\"treat\").mean()"
   ]
  },
  {
   "cell_type": "code",
   "execution_count": 69,
   "metadata": {},
   "outputs": [
    {
     "data": {
      "text/html": [
       "<div>\n",
       "<style scoped>\n",
       "    .dataframe tbody tr th:only-of-type {\n",
       "        vertical-align: middle;\n",
       "    }\n",
       "\n",
       "    .dataframe tbody tr th {\n",
       "        vertical-align: top;\n",
       "    }\n",
       "\n",
       "    .dataframe thead th {\n",
       "        text-align: right;\n",
       "    }\n",
       "</style>\n",
       "<table border=\"1\" class=\"dataframe\">\n",
       "  <thead>\n",
       "    <tr style=\"text-align: right;\">\n",
       "      <th></th>\n",
       "      <th>age</th>\n",
       "      <th>ed</th>\n",
       "      <th>black</th>\n",
       "      <th>hisp</th>\n",
       "      <th>married</th>\n",
       "      <th>nodeg</th>\n",
       "      <th>re74</th>\n",
       "      <th>re75</th>\n",
       "      <th>re78</th>\n",
       "      <th>age2</th>\n",
       "    </tr>\n",
       "    <tr>\n",
       "      <th>treat</th>\n",
       "      <th></th>\n",
       "      <th></th>\n",
       "      <th></th>\n",
       "      <th></th>\n",
       "      <th></th>\n",
       "      <th></th>\n",
       "      <th></th>\n",
       "      <th></th>\n",
       "      <th></th>\n",
       "      <th></th>\n",
       "    </tr>\n",
       "  </thead>\n",
       "  <tbody>\n",
       "    <tr>\n",
       "      <th>0</th>\n",
       "      <td>NaN</td>\n",
       "      <td>NaN</td>\n",
       "      <td>NaN</td>\n",
       "      <td>NaN</td>\n",
       "      <td>NaN</td>\n",
       "      <td>NaN</td>\n",
       "      <td>NaN</td>\n",
       "      <td>NaN</td>\n",
       "      <td>NaN</td>\n",
       "      <td>NaN</td>\n",
       "    </tr>\n",
       "    <tr>\n",
       "      <th>1</th>\n",
       "      <td>0.76</td>\n",
       "      <td>0.26</td>\n",
       "      <td>0.02</td>\n",
       "      <td>-0.05</td>\n",
       "      <td>0.04</td>\n",
       "      <td>-0.13</td>\n",
       "      <td>-11.45</td>\n",
       "      <td>265.15</td>\n",
       "      <td>1,794.34</td>\n",
       "      <td>40.08</td>\n",
       "    </tr>\n",
       "  </tbody>\n",
       "</table>\n",
       "</div>"
      ],
      "text/plain": [
       "       age   ed  black  hisp  married  nodeg   re74   re75     re78  age2\n",
       "treat                                                                    \n",
       "0      NaN  NaN    NaN   NaN      NaN    NaN    NaN    NaN      NaN   NaN\n",
       "1     0.76 0.26   0.02 -0.05     0.04  -0.13 -11.45 265.15 1,794.34 40.08"
      ]
     },
     "execution_count": 69,
     "metadata": {},
     "output_type": "execute_result"
    }
   ],
   "source": [
    "df_nsw.groupby(\"treat\").mean().diff()"
   ]
  },
  {
   "cell_type": "markdown",
   "metadata": {},
   "source": [
    "Are these differences statistically significant?"
   ]
  },
  {
   "cell_type": "code",
   "execution_count": 89,
   "metadata": {},
   "outputs": [
    {
     "name": "stdout",
     "output_type": "stream",
     "text": [
      "age           0.265\n",
      "ed            0.135\n",
      "black         0.649\n",
      "hisp          0.076\n",
      "married       0.327\n",
      "nodeg         0.001\n",
      "age2          0.333\n"
     ]
    }
   ],
   "source": [
    "for column in demographics:\n",
    "\n",
    "    treated = df_nsw.query(\"treat == 1\")[column]\n",
    "    control = df_nsw.query(\"treat == 0\")[column]\n",
    "\n",
    "    stat = ttest_ind(treated, control)[1]\n",
    "\n",
    "    print(f\"{column:<7}     {stat:7.3f}\")"
   ]
  },
  {
   "cell_type": "code",
   "execution_count": 90,
   "metadata": {},
   "outputs": [
    {
     "data": {
      "text/html": [
       "<div>\n",
       "<style scoped>\n",
       "    .dataframe tbody tr th:only-of-type {\n",
       "        vertical-align: middle;\n",
       "    }\n",
       "\n",
       "    .dataframe tbody tr th {\n",
       "        vertical-align: top;\n",
       "    }\n",
       "\n",
       "    .dataframe thead th {\n",
       "        text-align: right;\n",
       "    }\n",
       "</style>\n",
       "<table border=\"1\" class=\"dataframe\">\n",
       "  <thead>\n",
       "    <tr style=\"text-align: right;\">\n",
       "      <th></th>\n",
       "      <th>treat</th>\n",
       "      <th>age</th>\n",
       "      <th>ed</th>\n",
       "      <th>black</th>\n",
       "      <th>hisp</th>\n",
       "      <th>married</th>\n",
       "      <th>nodeg</th>\n",
       "      <th>re74</th>\n",
       "      <th>re75</th>\n",
       "      <th>re78</th>\n",
       "      <th>age2</th>\n",
       "    </tr>\n",
       "    <tr>\n",
       "      <th>individual</th>\n",
       "      <th></th>\n",
       "      <th></th>\n",
       "      <th></th>\n",
       "      <th></th>\n",
       "      <th></th>\n",
       "      <th></th>\n",
       "      <th></th>\n",
       "      <th></th>\n",
       "      <th></th>\n",
       "      <th></th>\n",
       "      <th></th>\n",
       "    </tr>\n",
       "  </thead>\n",
       "  <tbody>\n",
       "    <tr>\n",
       "      <th>0</th>\n",
       "      <td>0</td>\n",
       "      <td>45</td>\n",
       "      <td>11</td>\n",
       "      <td>0</td>\n",
       "      <td>0</td>\n",
       "      <td>1</td>\n",
       "      <td>1</td>\n",
       "      <td>21,516.67</td>\n",
       "      <td>25,243.55</td>\n",
       "      <td>25,564.67</td>\n",
       "      <td>2025</td>\n",
       "    </tr>\n",
       "    <tr>\n",
       "      <th>1</th>\n",
       "      <td>0</td>\n",
       "      <td>21</td>\n",
       "      <td>14</td>\n",
       "      <td>0</td>\n",
       "      <td>0</td>\n",
       "      <td>0</td>\n",
       "      <td>0</td>\n",
       "      <td>3,175.97</td>\n",
       "      <td>5,852.56</td>\n",
       "      <td>13,496.08</td>\n",
       "      <td>441</td>\n",
       "    </tr>\n",
       "    <tr>\n",
       "      <th>2</th>\n",
       "      <td>0</td>\n",
       "      <td>38</td>\n",
       "      <td>12</td>\n",
       "      <td>0</td>\n",
       "      <td>0</td>\n",
       "      <td>1</td>\n",
       "      <td>0</td>\n",
       "      <td>23,039.02</td>\n",
       "      <td>25,130.76</td>\n",
       "      <td>25,564.67</td>\n",
       "      <td>1444</td>\n",
       "    </tr>\n",
       "    <tr>\n",
       "      <th>3</th>\n",
       "      <td>0</td>\n",
       "      <td>48</td>\n",
       "      <td>6</td>\n",
       "      <td>0</td>\n",
       "      <td>0</td>\n",
       "      <td>1</td>\n",
       "      <td>1</td>\n",
       "      <td>24,994.37</td>\n",
       "      <td>25,243.55</td>\n",
       "      <td>25,564.67</td>\n",
       "      <td>2304</td>\n",
       "    </tr>\n",
       "    <tr>\n",
       "      <th>4</th>\n",
       "      <td>0</td>\n",
       "      <td>18</td>\n",
       "      <td>8</td>\n",
       "      <td>0</td>\n",
       "      <td>0</td>\n",
       "      <td>1</td>\n",
       "      <td>1</td>\n",
       "      <td>1,669.30</td>\n",
       "      <td>10,727.61</td>\n",
       "      <td>9,860.87</td>\n",
       "      <td>324</td>\n",
       "    </tr>\n",
       "  </tbody>\n",
       "</table>\n",
       "</div>"
      ],
      "text/plain": [
       "            treat  age  ed  black  hisp  married  nodeg      re74      re75  \\\n",
       "individual                                                                    \n",
       "0               0   45  11      0     0        1      1 21,516.67 25,243.55   \n",
       "1               0   21  14      0     0        0      0  3,175.97  5,852.56   \n",
       "2               0   38  12      0     0        1      0 23,039.02 25,130.76   \n",
       "3               0   48   6      0     0        1      1 24,994.37 25,243.55   \n",
       "4               0   18   8      0     0        1      1  1,669.30 10,727.61   \n",
       "\n",
       "                re78  age2  \n",
       "individual                  \n",
       "0          25,564.67  2025  \n",
       "1          13,496.08   441  \n",
       "2          25,564.67  1444  \n",
       "3          25,564.67  2304  \n",
       "4           9,860.87   324  "
      ]
     },
     "execution_count": 90,
     "metadata": {},
     "output_type": "execute_result"
    }
   ],
   "source": [
    "df_cps = pd.read_csv(\"data/cps.csv\", dtype=dtypes)\n",
    "df_cps.index.name = \"individual\"\n",
    "df_cps.head()"
   ]
  },
  {
   "cell_type": "markdown",
   "metadata": {},
   "source": [
    "How does a summary of the data look like?"
   ]
  },
  {
   "cell_type": "code",
   "execution_count": 91,
   "metadata": {},
   "outputs": [
    {
     "data": {
      "text/html": [
       "<div>\n",
       "<style scoped>\n",
       "    .dataframe tbody tr th:only-of-type {\n",
       "        vertical-align: middle;\n",
       "    }\n",
       "\n",
       "    .dataframe tbody tr th {\n",
       "        vertical-align: top;\n",
       "    }\n",
       "\n",
       "    .dataframe thead th {\n",
       "        text-align: right;\n",
       "    }\n",
       "</style>\n",
       "<table border=\"1\" class=\"dataframe\">\n",
       "  <thead>\n",
       "    <tr style=\"text-align: right;\">\n",
       "      <th></th>\n",
       "      <th>treat</th>\n",
       "      <th>age</th>\n",
       "      <th>ed</th>\n",
       "      <th>black</th>\n",
       "      <th>hisp</th>\n",
       "      <th>married</th>\n",
       "      <th>nodeg</th>\n",
       "      <th>re74</th>\n",
       "      <th>re75</th>\n",
       "      <th>re78</th>\n",
       "      <th>age2</th>\n",
       "    </tr>\n",
       "  </thead>\n",
       "  <tbody>\n",
       "    <tr>\n",
       "      <th>count</th>\n",
       "      <td>15,992.00</td>\n",
       "      <td>15,992.00</td>\n",
       "      <td>15,992.00</td>\n",
       "      <td>15,992.00</td>\n",
       "      <td>15,992.00</td>\n",
       "      <td>15,992.00</td>\n",
       "      <td>15,992.00</td>\n",
       "      <td>15,992.00</td>\n",
       "      <td>15,992.00</td>\n",
       "      <td>15,992.00</td>\n",
       "      <td>15,992.00</td>\n",
       "    </tr>\n",
       "    <tr>\n",
       "      <th>mean</th>\n",
       "      <td>0.00</td>\n",
       "      <td>33.23</td>\n",
       "      <td>12.03</td>\n",
       "      <td>0.07</td>\n",
       "      <td>0.07</td>\n",
       "      <td>0.71</td>\n",
       "      <td>0.30</td>\n",
       "      <td>14,016.80</td>\n",
       "      <td>13,650.80</td>\n",
       "      <td>14,846.66</td>\n",
       "      <td>1,225.91</td>\n",
       "    </tr>\n",
       "    <tr>\n",
       "      <th>std</th>\n",
       "      <td>0.00</td>\n",
       "      <td>11.05</td>\n",
       "      <td>2.87</td>\n",
       "      <td>0.26</td>\n",
       "      <td>0.26</td>\n",
       "      <td>0.45</td>\n",
       "      <td>0.46</td>\n",
       "      <td>9,569.80</td>\n",
       "      <td>9,270.40</td>\n",
       "      <td>9,647.39</td>\n",
       "      <td>784.74</td>\n",
       "    </tr>\n",
       "    <tr>\n",
       "      <th>min</th>\n",
       "      <td>0.00</td>\n",
       "      <td>16.00</td>\n",
       "      <td>0.00</td>\n",
       "      <td>0.00</td>\n",
       "      <td>0.00</td>\n",
       "      <td>0.00</td>\n",
       "      <td>0.00</td>\n",
       "      <td>0.00</td>\n",
       "      <td>0.00</td>\n",
       "      <td>0.00</td>\n",
       "      <td>256.00</td>\n",
       "    </tr>\n",
       "    <tr>\n",
       "      <th>25%</th>\n",
       "      <td>0.00</td>\n",
       "      <td>24.00</td>\n",
       "      <td>11.00</td>\n",
       "      <td>0.00</td>\n",
       "      <td>0.00</td>\n",
       "      <td>0.00</td>\n",
       "      <td>0.00</td>\n",
       "      <td>4,403.45</td>\n",
       "      <td>4,398.82</td>\n",
       "      <td>5,669.30</td>\n",
       "      <td>576.00</td>\n",
       "    </tr>\n",
       "    <tr>\n",
       "      <th>50%</th>\n",
       "      <td>0.00</td>\n",
       "      <td>31.00</td>\n",
       "      <td>12.00</td>\n",
       "      <td>0.00</td>\n",
       "      <td>0.00</td>\n",
       "      <td>1.00</td>\n",
       "      <td>0.00</td>\n",
       "      <td>15,123.58</td>\n",
       "      <td>14,557.11</td>\n",
       "      <td>16,421.97</td>\n",
       "      <td>961.00</td>\n",
       "    </tr>\n",
       "    <tr>\n",
       "      <th>75%</th>\n",
       "      <td>0.00</td>\n",
       "      <td>42.00</td>\n",
       "      <td>13.00</td>\n",
       "      <td>0.00</td>\n",
       "      <td>0.00</td>\n",
       "      <td>1.00</td>\n",
       "      <td>1.00</td>\n",
       "      <td>23,584.18</td>\n",
       "      <td>22,923.74</td>\n",
       "      <td>25,564.67</td>\n",
       "      <td>1,764.00</td>\n",
       "    </tr>\n",
       "    <tr>\n",
       "      <th>max</th>\n",
       "      <td>0.00</td>\n",
       "      <td>55.00</td>\n",
       "      <td>18.00</td>\n",
       "      <td>1.00</td>\n",
       "      <td>1.00</td>\n",
       "      <td>1.00</td>\n",
       "      <td>1.00</td>\n",
       "      <td>25,862.32</td>\n",
       "      <td>25,243.55</td>\n",
       "      <td>25,564.67</td>\n",
       "      <td>3,025.00</td>\n",
       "    </tr>\n",
       "  </tbody>\n",
       "</table>\n",
       "</div>"
      ],
      "text/plain": [
       "          treat       age        ed     black      hisp   married     nodeg  \\\n",
       "count 15,992.00 15,992.00 15,992.00 15,992.00 15,992.00 15,992.00 15,992.00   \n",
       "mean       0.00     33.23     12.03      0.07      0.07      0.71      0.30   \n",
       "std        0.00     11.05      2.87      0.26      0.26      0.45      0.46   \n",
       "min        0.00     16.00      0.00      0.00      0.00      0.00      0.00   \n",
       "25%        0.00     24.00     11.00      0.00      0.00      0.00      0.00   \n",
       "50%        0.00     31.00     12.00      0.00      0.00      1.00      0.00   \n",
       "75%        0.00     42.00     13.00      0.00      0.00      1.00      1.00   \n",
       "max        0.00     55.00     18.00      1.00      1.00      1.00      1.00   \n",
       "\n",
       "           re74      re75      re78      age2  \n",
       "count 15,992.00 15,992.00 15,992.00 15,992.00  \n",
       "mean  14,016.80 13,650.80 14,846.66  1,225.91  \n",
       "std    9,569.80  9,270.40  9,647.39    784.74  \n",
       "min        0.00      0.00      0.00    256.00  \n",
       "25%    4,403.45  4,398.82  5,669.30    576.00  \n",
       "50%   15,123.58 14,557.11 16,421.97    961.00  \n",
       "75%   23,584.18 22,923.74 25,564.67  1,764.00  \n",
       "max   25,862.32 25,243.55 25,564.67  3,025.00  "
      ]
     },
     "execution_count": 91,
     "metadata": {},
     "output_type": "execute_result"
    }
   ],
   "source": [
    "df_cps.describe()"
   ]
  },
  {
   "cell_type": "markdown",
   "metadata": {},
   "source": [
    "Let's compare mean differences between the synthetic control group and the treatment group."
   ]
  },
  {
   "cell_type": "code",
   "execution_count": 92,
   "metadata": {},
   "outputs": [
    {
     "name": "stdout",
     "output_type": "stream",
     "text": [
      "age           0.000\n",
      "ed            0.000\n",
      "black         0.000\n",
      "hisp          0.510\n",
      "married       0.000\n",
      "nodeg         0.000\n",
      "age2          0.000\n"
     ]
    }
   ],
   "source": [
    "for column in demographics:\n",
    "\n",
    "    treated = df_nsw.query(\"treat == 1\")[column]\n",
    "    control = df_cps[column]\n",
    "\n",
    "    stat = ttest_ind(treated, control)[1]\n",
    "\n",
    "    print(f\"{column:<7}     {stat:7.3f}\")"
   ]
  },
  {
   "cell_type": "markdown",
   "metadata": {},
   "source": [
    "## Task B. Regression Adjustment\n",
    "\n",
    "*In this section we compare the results of regression estimates with selection on observables as discussed in the lecture 6.*"
   ]
  },
  {
   "cell_type": "markdown",
   "metadata": {},
   "source": [
    "### Task B.1"
   ]
  },
  {
   "cell_type": "markdown",
   "metadata": {},
   "source": [
    "*Merge the treatment group data from the NSW sample with the comparison group data from the CPS sample to imitate an observational study.*"
   ]
  },
  {
   "cell_type": "code",
   "execution_count": 93,
   "metadata": {},
   "outputs": [
    {
     "data": {
      "text/html": [
       "<div>\n",
       "<style scoped>\n",
       "    .dataframe tbody tr th:only-of-type {\n",
       "        vertical-align: middle;\n",
       "    }\n",
       "\n",
       "    .dataframe tbody tr th {\n",
       "        vertical-align: top;\n",
       "    }\n",
       "\n",
       "    .dataframe thead th {\n",
       "        text-align: right;\n",
       "    }\n",
       "</style>\n",
       "<table border=\"1\" class=\"dataframe\">\n",
       "  <thead>\n",
       "    <tr style=\"text-align: right;\">\n",
       "      <th></th>\n",
       "      <th></th>\n",
       "      <th>treat</th>\n",
       "      <th>age</th>\n",
       "      <th>ed</th>\n",
       "      <th>black</th>\n",
       "      <th>hisp</th>\n",
       "      <th>married</th>\n",
       "      <th>nodeg</th>\n",
       "      <th>re74</th>\n",
       "      <th>re75</th>\n",
       "      <th>re78</th>\n",
       "      <th>age2</th>\n",
       "    </tr>\n",
       "    <tr>\n",
       "      <th>individual</th>\n",
       "      <th>sample</th>\n",
       "      <th></th>\n",
       "      <th></th>\n",
       "      <th></th>\n",
       "      <th></th>\n",
       "      <th></th>\n",
       "      <th></th>\n",
       "      <th></th>\n",
       "      <th></th>\n",
       "      <th></th>\n",
       "      <th></th>\n",
       "      <th></th>\n",
       "    </tr>\n",
       "  </thead>\n",
       "  <tbody>\n",
       "    <tr>\n",
       "      <th>1</th>\n",
       "      <th>NSW</th>\n",
       "      <td>1</td>\n",
       "      <td>22</td>\n",
       "      <td>9</td>\n",
       "      <td>0</td>\n",
       "      <td>1</td>\n",
       "      <td>0</td>\n",
       "      <td>1</td>\n",
       "      <td>0.00</td>\n",
       "      <td>0.00</td>\n",
       "      <td>3,595.89</td>\n",
       "      <td>484</td>\n",
       "    </tr>\n",
       "    <tr>\n",
       "      <th>2</th>\n",
       "      <th>NSW</th>\n",
       "      <td>1</td>\n",
       "      <td>30</td>\n",
       "      <td>12</td>\n",
       "      <td>1</td>\n",
       "      <td>0</td>\n",
       "      <td>0</td>\n",
       "      <td>0</td>\n",
       "      <td>0.00</td>\n",
       "      <td>0.00</td>\n",
       "      <td>24,909.45</td>\n",
       "      <td>900</td>\n",
       "    </tr>\n",
       "    <tr>\n",
       "      <th>3</th>\n",
       "      <th>NSW</th>\n",
       "      <td>1</td>\n",
       "      <td>27</td>\n",
       "      <td>11</td>\n",
       "      <td>1</td>\n",
       "      <td>0</td>\n",
       "      <td>0</td>\n",
       "      <td>1</td>\n",
       "      <td>0.00</td>\n",
       "      <td>0.00</td>\n",
       "      <td>7,506.15</td>\n",
       "      <td>729</td>\n",
       "    </tr>\n",
       "    <tr>\n",
       "      <th>4</th>\n",
       "      <th>NSW</th>\n",
       "      <td>1</td>\n",
       "      <td>33</td>\n",
       "      <td>8</td>\n",
       "      <td>1</td>\n",
       "      <td>0</td>\n",
       "      <td>0</td>\n",
       "      <td>1</td>\n",
       "      <td>0.00</td>\n",
       "      <td>0.00</td>\n",
       "      <td>289.79</td>\n",
       "      <td>1089</td>\n",
       "    </tr>\n",
       "    <tr>\n",
       "      <th>5</th>\n",
       "      <th>NSW</th>\n",
       "      <td>1</td>\n",
       "      <td>22</td>\n",
       "      <td>9</td>\n",
       "      <td>1</td>\n",
       "      <td>0</td>\n",
       "      <td>0</td>\n",
       "      <td>1</td>\n",
       "      <td>0.00</td>\n",
       "      <td>0.00</td>\n",
       "      <td>4,056.49</td>\n",
       "      <td>484</td>\n",
       "    </tr>\n",
       "  </tbody>\n",
       "</table>\n",
       "</div>"
      ],
      "text/plain": [
       "                   treat  age  ed  black  hisp  married  nodeg  re74  re75  \\\n",
       "individual sample                                                            \n",
       "1          NSW         1   22   9      0     1        0      1  0.00  0.00   \n",
       "2          NSW         1   30  12      1     0        0      0  0.00  0.00   \n",
       "3          NSW         1   27  11      1     0        0      1  0.00  0.00   \n",
       "4          NSW         1   33   8      1     0        0      1  0.00  0.00   \n",
       "5          NSW         1   22   9      1     0        0      1  0.00  0.00   \n",
       "\n",
       "                       re78  age2  \n",
       "individual sample                  \n",
       "1          NSW     3,595.89   484  \n",
       "2          NSW    24,909.45   900  \n",
       "3          NSW     7,506.15   729  \n",
       "4          NSW       289.79  1089  \n",
       "5          NSW     4,056.49   484  "
      ]
     },
     "execution_count": 93,
     "metadata": {},
     "output_type": "execute_result"
    }
   ],
   "source": [
    "df_nsw[\"sample\"] = \"NSW\"\n",
    "df_cps[\"sample\"] = \"CPS\"\n",
    "\n",
    "df_obs = pd.concat([df_nsw.query(\"treat == 1\"), df_cps])\n",
    "df_obs.set_index([\"sample\"], append=True, inplace=True)\n",
    "df_obs.sort_index(inplace=True)\n",
    "\n",
    "df_obs.loc[(slice(1, 5), \"NSW\"), :]"
   ]
  },
  {
   "cell_type": "markdown",
   "metadata": {},
   "source": [
    "### Task B.2"
   ]
  },
  {
   "cell_type": "markdown",
   "metadata": {},
   "source": [
    "*Which assumption need to hold such that conditioning on observables can help in obtaining an unbiased estimate of the true treatment effect?*"
   ]
  },
  {
   "cell_type": "markdown",
   "metadata": {},
   "source": [
    "$$E[Y^1|D = 1, S] = E[Y^1|D = 0, S]$$\n",
    "$$E[Y^0|D = 1, S] = E[Y^0|D = 0, S]$$"
   ]
  },
  {
   "cell_type": "markdown",
   "metadata": {},
   "source": [
    "### Task B.3"
   ]
  },
  {
   "cell_type": "markdown",
   "metadata": {},
   "source": [
    "*Run a regression on both experimental and non-experimental data using the specification: RE78 on a constant, a treatment indicator, age, age2, education, marital status, no degree, black, hispanic, RE74, and RE75. We recommend using statsmodels, but you are free to use any other software. Is the treatment effect estimate of the observational study consistent with the true estimate?*"
   ]
  },
  {
   "cell_type": "markdown",
   "metadata": {},
   "source": [
    "We first construct the regression equation."
   ]
  },
  {
   "cell_type": "code",
   "execution_count": 94,
   "metadata": {},
   "outputs": [
    {
     "data": {
      "text/plain": [
       "'re78 ~ treat  + age  + ed  + black  + hisp  + married  + nodeg  + re74  + re75  + age2'"
      ]
     },
     "execution_count": 94,
     "metadata": {},
     "output_type": "execute_result"
    }
   ],
   "source": [
    "indep_vars = df_obs.columns.tolist()\n",
    "indep_vars.remove(\"re78\")\n",
    "\n",
    "formula = \"re78 ~ \" + \" \" \" + \".join(indep_vars)\n",
    "formula"
   ]
  },
  {
   "cell_type": "markdown",
   "metadata": {},
   "source": [
    "Now we can run the model on both datasets."
   ]
  },
  {
   "cell_type": "code",
   "execution_count": 95,
   "metadata": {},
   "outputs": [
    {
     "name": "stdout",
     "output_type": "stream",
     "text": [
      "Estimate based on observational data: 793.587\n",
      "Estimate based on experimental data: 1675.862\n"
     ]
    }
   ],
   "source": [
    "for label, data in [(\"observational\", df_obs), (\"experimental\", df_nsw)]:\n",
    "    stat = smf.ols(formula=formula, data=data).fit().params[\"treat\"]\n",
    "    print(f\"Estimate based on {label} data: {stat:7.3f}\")"
   ]
  },
  {
   "cell_type": "markdown",
   "metadata": {},
   "source": [
    "## Task C. Matching on Propensity Score\n",
    "\n",
    "Recall that the propensity score p(Si) is the probability of unit i having been assigned to treatment. Most commonly this function is modeled to be dependent on various covariates. We write $p(S_i) := Pr(D_i = 1|S_i) = E(D_i|S_i).$ One assumption that makes estimation strategies feasible is $S_i \\perp D_i|p(S_i)$ which means that, conditional on the propensity score, the covariates are independent of assignment to treatment. Therefore, conditioning on the propensity score, each individual has the same probability of assignment to treatment,\n",
    "as in a randomized experiment.*\n",
    "\n",
    "Estimation is done in two steps. First, we estimate the propensity score using a logistic regression model. Secondly, we match the observations on propensity score employing nearest-neighbor algorithm discussed in the lecture 5. That is, each treatment unit is matched to the comparison unit with the closest propensity score -- the unmatched comparison units are discarded."
   ]
  },
  {
   "cell_type": "markdown",
   "metadata": {},
   "source": [
    "### Task C.1"
   ]
  },
  {
   "cell_type": "markdown",
   "metadata": {},
   "source": [
    "*Before we start with matching on propensity score, let's come back to another matching strategy which was discussed in Lecture 5 - matching on stratification. Looking at the data could you name at least two potential reasons why matching on stratification might be impossible to use here?*"
   ]
  },
  {
   "cell_type": "markdown",
   "metadata": {},
   "source": [
    "Data contains continuous variables; formed stratas might not have treated and control units available at the same time."
   ]
  },
  {
   "cell_type": "markdown",
   "metadata": {},
   "source": [
    "### Task C.2"
   ]
  },
  {
   "cell_type": "markdown",
   "metadata": {},
   "source": [
    "*Employing our imitated observational data run a logistic regression on the following specification: treatment indicator on age, education, marital status, no degree, black, hispanic, RE74, and RE75. Use, for example, [statsmodels](https://www.statsmodels.org/stable/index.html) for this task. Then extract a propensity score for every individual as a probability to be assigned into treatment.*"
   ]
  },
  {
   "cell_type": "code",
   "execution_count": 96,
   "metadata": {},
   "outputs": [
    {
     "name": "stdout",
     "output_type": "stream",
     "text": [
      "Optimization terminated successfully.\n",
      "         Current function value: 0.031035\n",
      "         Iterations 12\n"
     ]
    }
   ],
   "source": [
    "formula = \"treat ~ age + ed + black + hisp + married + nodeg + re74 + re75\"\n",
    "df_obs[\"pscore\"] = smf.logit(formula=formula, data=df_obs).fit().predict()"
   ]
  },
  {
   "cell_type": "markdown",
   "metadata": {},
   "source": [
    "### Task C.3"
   ]
  },
  {
   "cell_type": "markdown",
   "metadata": {},
   "source": [
    "*Before proceeding further we have to be sure that propensity scores of treatment units overlap with the propensity scores of control units. Draw a figure  showing the distribution of propensity score across treatment and control units (we use the packages matplotlib and seaborn). Do we observe common support?*"
   ]
  },
  {
   "cell_type": "code",
   "execution_count": 97,
   "metadata": {},
   "outputs": [
    {
     "data": {
      "text/plain": [
       "<matplotlib.legend.Legend at 0x7fa33de94590>"
      ]
     },
     "execution_count": 97,
     "metadata": {},
     "output_type": "execute_result"
    },
    {
     "data": {
      "image/png": "[encoded data removed]",
      "text/plain": [
       "<Figure size 432x288 with 1 Axes>"
      ]
     },
     "metadata": {
      "needs_background": "light"
     },
     "output_type": "display_data"
    }
   ],
   "source": [
    "fig, ax = plt.subplots()\n",
    "\n",
    "df_control = df_obs.query(f\"treat == 0\")[\"pscore\"]\n",
    "df_treated = df_obs.query(f\"treat == 1\")[\"pscore\"]\n",
    "\n",
    "ax.hist([df_control, df_treated], density=True, label=[\"Control\", \"Treated\"])\n",
    "\n",
    "ax.set_ylim(0, 5)\n",
    "ax.set_xlim(0, 1)\n",
    "ax.set_ylabel(\"Density\")\n",
    "ax.set_xlabel(\"Propensity scores\")\n",
    "ax.legend()"
   ]
  },
  {
   "cell_type": "markdown",
   "metadata": {},
   "source": [
    "### Task C.4"
   ]
  },
  {
   "cell_type": "markdown",
   "metadata": {},
   "source": [
    "*Match each treatment unit with control unit one-to-one with replacement. We use the package sklearn.neighbors: apply the algorithm NearestNeighbors to the propensity score of treated and control units and extract the indices of matched control units.*"
   ]
  },
  {
   "cell_type": "code",
   "execution_count": 98,
   "metadata": {},
   "outputs": [],
   "source": [
    "def get_matched_dataset(df):\n",
    "    training_data = df.query(\"treat == 0\")[\"pscore\"].to_numpy().reshape(-1, 1)\n",
    "    eval_point = df.query(\"treat == 1\")[\"pscore\"].to_numpy().reshape(-1, 1)\n",
    "\n",
    "    neigh = NearestNeighbors(n_neighbors=1)\n",
    "\n",
    "    neigh.fit(training_data)\n",
    "    matched = neigh.kneighbors(eval_point, return_distance=False)[:, 0]\n",
    "\n",
    "    df_treated = df.query(\"treat == 1\")\n",
    "    df_matched = df.query(\"treat == 0\").iloc[matched]\n",
    "\n",
    "    df_sample = pd.concat([df_treated, df_matched])\n",
    "\n",
    "    return df_sample"
   ]
  },
  {
   "cell_type": "markdown",
   "metadata": {},
   "source": [
    "### Task C.5"
   ]
  },
  {
   "cell_type": "markdown",
   "metadata": {},
   "source": [
    "*Construct new data set with matched observations. Run the regression to obtain matching on propensity score estimate. Is it more or less consistent estimate of the true effect comparing to the regression estimate with selection on observables? How could you explain this result?*"
   ]
  },
  {
   "cell_type": "code",
   "execution_count": 99,
   "metadata": {},
   "outputs": [
    {
     "name": "stdout",
     "output_type": "stream",
     "text": [
      "Estimate based on matched for re78 data: 1551.477\n"
     ]
    }
   ],
   "source": [
    "df_sample = get_matched_dataset(df_obs)\n",
    "stat = smf.ols(formula=\"re78 ~ treat\", data=df_sample).fit().params[\"treat\"]\n",
    "print(f\"Estimate based on matched for re78 data: {stat:7.3f}\")"
   ]
  },
  {
   "cell_type": "markdown",
   "metadata": {},
   "source": [
    "Regression model neglects important nonlinear terms and interactions (Rubin 1973). The benefit of matching over regression is that it is non-parametric (but you do have to assume that you have the right propensity score specification in case of  matching)."
   ]
  },
  {
   "cell_type": "markdown",
   "metadata": {},
   "source": [
    "Let's further explore two selected issues in matching, i.e. the use of placebo testing and trimming."
   ]
  },
  {
   "cell_type": "code",
   "execution_count": 100,
   "metadata": {},
   "outputs": [
    {
     "name": "stdout",
     "output_type": "stream",
     "text": [
      "Estimate based on matched for re75 data: 221.917\n"
     ]
    }
   ],
   "source": [
    "stat = smf.ols(formula=\"re75 ~ treat\", data=df_sample).fit().params[\"treat\"]\n",
    "print(f\"Estimate based on matched for re75 data: {stat:7.3f}\")"
   ]
  },
  {
   "cell_type": "markdown",
   "metadata": {},
   "source": [
    "What happens if we trim our dataset?"
   ]
  },
  {
   "cell_type": "code",
   "execution_count": 84,
   "metadata": {},
   "outputs": [
    {
     "name": "stdout",
     "output_type": "stream",
     "text": [
      "0.025: 1563.983\n",
      "0.050: 1665.306\n",
      "0.100: 1744.330\n",
      "0.150: 2138.977\n"
     ]
    }
   ],
   "source": [
    "for value in [0.025, 0.05, 0.1, 0.15]:\n",
    "\n",
    "    lower, upper = value, 1 - value\n",
    "    df_trimmed = df_obs.loc[df_obs[\"pscore\"].between(lower, upper), :]\n",
    "\n",
    "    df_sample = get_matched_dataset(df_trimmed)\n",
    "\n",
    "    stat = smf.ols(formula=\"re78 ~ treat\", data=df_sample).fit().params[\"treat\"]\n",
    "    print(f\"{value:5.3f}: {stat:7.3f}\")"
   ]
  },
  {
   "cell_type": "markdown",
   "metadata": {},
   "source": [
    "## References\n",
    "\n",
    "* **Bureau of Labor Statistics. (1974, 1975, 1978)**. [Current Population Survey](https://www.census.gov/programs-surveys/cps.html).\n",
    "\n",
    "\n",
    "* **Dehejia, R., and Wahba, S. (1999)**. [Causal effects in nonexperimental studies: Reevaluating the evaluation of training programs](https://www.jstor.org/stable/2669919?seq=1). *Journal of the American Statistical Association*, 94(448), 1053-1062.\n",
    "\n",
    "\n",
    "* **LaLonde, R. J. (1986)**. [Evaluating the econometric evaluation of training programs with experimental data](https://www.jstor.org/stable/1806062?seq=1). *American Economic Review*, 76(4), 604-620."
   ]
  }
 ],
 "metadata": {
  "kernelspec": {
   "display_name": "Python 3",
   "language": "python",
   "name": "python3"
  },
  "language_info": {
   "codemirror_mode": {
    "name": "ipython",
    "version": 3
   },
   "file_extension": ".py",
   "mimetype": "text/x-python",
   "name": "python",
   "nbconvert_exporter": "python",
   "pygments_lexer": "ipython3",
   "version": "3.7.10"
  }
 },
 "nbformat": 4,
 "nbformat_minor": 4
}
